{
 "cells": [
  {
   "cell_type": "code",
   "execution_count": 77,
   "metadata": {
    "collapsed": true
   },
   "outputs": [],
   "source": [
    "import geopy\n",
    "from geopy.geocoders import Nominatim\n",
    "import requests\n",
    "import folium\n",
    "import itertools\n",
    "import pandas as pd\n",
    "import networkx as nx\n",
    "from sklearn.cluster import KMeans\n",
    "\n",
    "pd.options.mode.chained_assignment = None"
   ]
  },
  {
   "cell_type": "markdown",
   "metadata": {},
   "source": [
    "## LOAD DATA"
   ]
  },
  {
   "cell_type": "code",
   "execution_count": 27,
   "metadata": {
    "collapsed": true
   },
   "outputs": [],
   "source": [
    "with open('cast_types.txt', 'r') as file:\n",
    "    cast_types = [f.strip('\\n') for f in file.readlines()]"
   ]
  },
  {
   "cell_type": "code",
   "execution_count": 34,
   "metadata": {
    "collapsed": true
   },
   "outputs": [],
   "source": [
    "data = {}\n",
    "for cast_ in cast_types:\n",
    "    data[cast_] = pd.read_csv(f'data/{cast_}.csv').set_index('name')"
   ]
  },
  {
   "cell_type": "code",
   "execution_count": 35,
   "metadata": {
    "collapsed": true
   },
   "outputs": [],
   "source": [
    "driver_num = data['drivers'].shape[0]\n",
    "cast_num = data['cast_members'].shape[0]"
   ]
  },
  {
   "cell_type": "markdown",
   "metadata": {},
   "source": [
    "## DIRECTIONS API"
   ]
  },
  {
   "cell_type": "code",
   "execution_count": 36,
   "metadata": {
    "collapsed": true
   },
   "outputs": [],
   "source": [
    "with open('gitignore/api_key.txt') as fh:\n",
    "    api_key = fh.read()"
   ]
  },
  {
   "cell_type": "code",
   "execution_count": 37,
   "metadata": {
    "collapsed": true
   },
   "outputs": [],
   "source": [
    "geolocator = Nominatim(user_agent=\"Transport_planner\")\n",
    "\n",
    "def geocode_address(address, geolocator=geolocator):\n",
    "    return geolocator.geocode(address)\n",
    "\n",
    "def get_duration(loc_1, loc_2, loc=True, api_key=api_key):\n",
    "    # return time of route plan in seconds\n",
    "    if loc:\n",
    "        geojson = get_directions_locations(loc_1, loc_2, api_key=api_key)\n",
    "    else:\n",
    "        geojson = get_directions_coords(loc_1, loc_2, api_key=api_key)\n",
    "    return geojson['features'][0]['properties']['segments'][0]['duration']\n",
    "\n",
    "def get_directions_locations(loc_1, loc_2, api_key=api_key):\n",
    "    # get direction as a geojson\n",
    "    url = f\"https://api.openrouteservice.org/v2/directions/driving-car?api_key={api_key}&start={str(loc_1.longitude)},{str(loc_1.latitude)}&end={str(loc_2.longitude)},{str(loc_2.latitude)}\"\n",
    "    r = requests.get(url)\n",
    "    return r.json()\n",
    "\n",
    "def get_directions_coords(coords_1, coords_2, api_key=api_key):\n",
    "    # get direction as a geojson\n",
    "    url = f\"https://api.openrouteservice.org/v2/directions/driving-car?api_key={api_key}&start={str(coords_1[0])},{str(coords_1[1])}&end={str(coords_2[0])},{str(coords_2[1])}\"\n",
    "    r = requests.get(url)\n",
    "    return r.json()"
   ]
  },
  {
   "cell_type": "code",
   "execution_count": 38,
   "metadata": {
    "collapsed": true
   },
   "outputs": [],
   "source": [
    "locations = {}\n",
    "for _, value in data.items():\n",
    "    for ind, row in value.iterrows():\n",
    "        try:\n",
    "            locations[ind] = geocode_address(row['address'])\n",
    "        except:\n",
    "            continue"
   ]
  },
  {
   "cell_type": "code",
   "execution_count": 39,
   "metadata": {},
   "outputs": [
    {
     "data": {
      "text/plain": [
       "{'Apci': Location(Szent István körút, Újlipótváros, 13. kerület, Budapest, Közép-Magyarország, 1137, Magyarország, (47.5110476, 19.05431, 0.0)),\n",
       " 'Bius': Location(Golden élelmiszerbolt, 58, Wesselényi utca, Ligetváros, Erzsébetváros, 7. kerület, Budapest, Közép-Magyarország, 1077, Magyarország, (47.5027025, 19.0723412, 0.0)),\n",
       " 'Boci': Location(Örs vezér tere, Örs vezér téri lakótelep, Rákosfalva, 14. kerület, Budapest, Közép-Magyarország, 1148, Magyarország, (47.5056186, 19.1356264, 0.0)),\n",
       " 'Coci': Location(Ludovika tér, Losonci negyed, 8. kerület, Budapest, Közép-Magyarország, 1083, Magyarország, (47.4821204, 19.0850836, 0.0)),\n",
       " 'Dani': Location(Klauzál tér, Ligetváros, Erzsébetváros, 7. kerület, Budapest, Közép-Magyarország, 1072, Magyarország, (47.5004821, 19.0637521, 0.0)),\n",
       " 'Deni': Location(Hegyalja út, Gellérthegy, 1. kerület, Budapest, Közép-Magyarország, 1016, Magyarország, (47.4882875, 19.0306139, 0.0)),\n",
       " 'Dressing': Location(ELTE PPK Egészségfejlesztési és Sporttudományi Intézet, 10, Bogdánfy utca, Lágymányos, 11. kerület, Budapest, Közép-Magyarország, 1117, Magyarország, (47.4730609, 19.0576071, 0.0)),\n",
       " 'Feri': Location(18, Dobó utca, MÁV-telep, Rákospalota, 15. kerület, Budapest, Közép-Magyarország, 1153, Magyarország, (47.5604898333333, 19.1154243333333, 0.0)),\n",
       " 'Laci': Location(Rajk László Szakkollégium, 6, Horánszky utca, Palotanegyed, 8. kerület, Budapest, Közép-Magyarország, 1085, Magyarország, (47.49236565, 19.0677840526337, 0.0)),\n",
       " 'Loci': Location(CDC Ingatlan, 13/a, Lónyay utca, Belső-Ferencváros, 9. kerület, Budapest, Közép-Magyarország, 1093, Magyarország, (47.4865415, 19.0614793, 0.0)),\n",
       " 'Nori': Location(Laky Károly Sportuszoda (BVSC-Zugló), 2, Szőnyi út, Herminamező, 14. kerület, Budapest, Közép-Magyarország, 1142, Magyarország, (47.52254375, 19.0920238413811, 0.0)),\n",
       " 'Peti': Location(13, Perczel Mór utca, MÁV-telep, Rákospalota, 15. kerület, Budapest, Közép-Magyarország, 1155, Magyarország, (47.5395641666667, 19.1125582, 0.0)),\n",
       " 'Shooting': Location(Magyar Filmlabor, 51, Budakeszi út, Kurucles, 12. kerület, Budapest, Közép-Magyarország, 1021, Magyarország, (47.51999175, 18.978789991874, 0.0)),\n",
       " 'Zoli': Location(4, Akácfa utca, Ligetváros, Erzsébetváros, 7. kerület, Budapest, Közép-Magyarország, 1072, Magyarország, (47.4973858, 19.0689998786508, 0.0))}"
      ]
     },
     "execution_count": 39,
     "metadata": {},
     "output_type": "execute_result"
    }
   ],
   "source": [
    "locations"
   ]
  },
  {
   "cell_type": "markdown",
   "metadata": {},
   "source": [
    "## CREATE OBJECT"
   ]
  },
  {
   "cell_type": "code",
   "execution_count": 82,
   "metadata": {
    "collapsed": true
   },
   "outputs": [],
   "source": [
    "class TransportPlanner(object):\n",
    "    \n",
    "    def __init__(self, supervisors, drivers, cast_members, destinations, geolocator=geolocator):\n",
    "        self.supervisors = supervisors\n",
    "        self.drivers = drivers\n",
    "        self.cast_members = cast_members\n",
    "        self.destinations = destinations\n",
    "        self.all_locs = [self.supervisors, self.drivers, self.cast_members, self.destinations]\n",
    "        self.geolocator = geolocator\n",
    "        self.min_clus = drivers['capacity'].max() + 1\n",
    "        with open('cast_types.txt', 'r') as file:\n",
    "            self.cast_types = [f.strip('\\n') for f in file.readlines()] \n",
    "        \n",
    "    def __str__(self):\n",
    "        return('This is a transport planner object.')\n",
    "    \n",
    "    \n",
    "    def get_locations(self):\n",
    "        self.locations = {}\n",
    "        for df in self.all_locs:\n",
    "            for ind, row in df.iterrows():\n",
    "                try:\n",
    "                    self.locations[ind] = self.geolocator.geocode(row['address'])\n",
    "                except:\n",
    "                    continue\n",
    "    \n",
    "    def get_coordinates(self):\n",
    "        self.coords = pd.DataFrame({k: (v.longitude, v.latitude) for k, v in self.locations.items()}).T\n",
    "    \n",
    "    \n",
    "    \n",
    "    \n",
    "    \n",
    "        "
   ]
  },
  {
   "cell_type": "code",
   "execution_count": 83,
   "metadata": {
    "collapsed": true
   },
   "outputs": [],
   "source": [
    "tp = TransportPlanner(*[data[f] for f in cast_types])"
   ]
  },
  {
   "cell_type": "code",
   "execution_count": 88,
   "metadata": {},
   "outputs": [
    {
     "data": {
      "text/plain": [
       "4"
      ]
     },
     "execution_count": 88,
     "metadata": {},
     "output_type": "execute_result"
    }
   ],
   "source": [
    "tp.min_clus"
   ]
  },
  {
   "cell_type": "code",
   "execution_count": 84,
   "metadata": {
    "collapsed": true
   },
   "outputs": [],
   "source": [
    "tp.get_locations()"
   ]
  },
  {
   "cell_type": "code",
   "execution_count": 85,
   "metadata": {},
   "outputs": [
    {
     "data": {
      "text/plain": [
       "{'Apci': Location(Szent István körút, Újlipótváros, 13. kerület, Budapest, Közép-Magyarország, 1137, Magyarország, (47.5110476, 19.05431, 0.0)),\n",
       " 'Bius': Location(Golden élelmiszerbolt, 58, Wesselényi utca, Ligetváros, Erzsébetváros, 7. kerület, Budapest, Közép-Magyarország, 1077, Magyarország, (47.5027025, 19.0723412, 0.0)),\n",
       " 'Boci': Location(Örs vezér tere, Örs vezér téri lakótelep, Rákosfalva, 14. kerület, Budapest, Közép-Magyarország, 1148, Magyarország, (47.5056186, 19.1356264, 0.0)),\n",
       " 'Coci': Location(Ludovika tér, Losonci negyed, 8. kerület, Budapest, Közép-Magyarország, 1083, Magyarország, (47.4821204, 19.0850836, 0.0)),\n",
       " 'Dani': Location(Klauzál tér, Ligetváros, Erzsébetváros, 7. kerület, Budapest, Közép-Magyarország, 1072, Magyarország, (47.5004821, 19.0637521, 0.0)),\n",
       " 'Deni': Location(Hegyalja út, Gellérthegy, 1. kerület, Budapest, Közép-Magyarország, 1016, Magyarország, (47.4882875, 19.0306139, 0.0)),\n",
       " 'Dressing': Location(ELTE PPK Egészségfejlesztési és Sporttudományi Intézet, 10, Bogdánfy utca, Lágymányos, 11. kerület, Budapest, Közép-Magyarország, 1117, Magyarország, (47.4730609, 19.0576071, 0.0)),\n",
       " 'Feri': Location(18, Dobó utca, MÁV-telep, Rákospalota, 15. kerület, Budapest, Közép-Magyarország, 1153, Magyarország, (47.5604898333333, 19.1154243333333, 0.0)),\n",
       " 'Laci': Location(Rajk László Szakkollégium, 6, Horánszky utca, Palotanegyed, 8. kerület, Budapest, Közép-Magyarország, 1085, Magyarország, (47.49236565, 19.0677840526337, 0.0)),\n",
       " 'Loci': Location(CDC Ingatlan, 13/a, Lónyay utca, Belső-Ferencváros, 9. kerület, Budapest, Közép-Magyarország, 1093, Magyarország, (47.4865415, 19.0614793, 0.0)),\n",
       " 'Nori': Location(Laky Károly Sportuszoda (BVSC-Zugló), 2, Szőnyi út, Herminamező, 14. kerület, Budapest, Közép-Magyarország, 1142, Magyarország, (47.52254375, 19.0920238413811, 0.0)),\n",
       " 'Peti': Location(13, Perczel Mór utca, MÁV-telep, Rákospalota, 15. kerület, Budapest, Közép-Magyarország, 1155, Magyarország, (47.5395641666667, 19.1125582, 0.0)),\n",
       " 'Shooting': Location(Magyar Filmlabor, 51, Budakeszi út, Kurucles, 12. kerület, Budapest, Közép-Magyarország, 1021, Magyarország, (47.51999175, 18.978789991874, 0.0)),\n",
       " 'Zoli': Location(4, Akácfa utca, Ligetváros, Erzsébetváros, 7. kerület, Budapest, Közép-Magyarország, 1072, Magyarország, (47.4973858, 19.0689998786508, 0.0))}"
      ]
     },
     "execution_count": 85,
     "metadata": {},
     "output_type": "execute_result"
    }
   ],
   "source": [
    "tp.locations"
   ]
  },
  {
   "cell_type": "code",
   "execution_count": 86,
   "metadata": {
    "collapsed": true
   },
   "outputs": [],
   "source": [
    "tp.get_coordinates()"
   ]
  },
  {
   "cell_type": "code",
   "execution_count": 87,
   "metadata": {},
   "outputs": [
    {
     "data": {
      "text/html": [
       "<div>\n",
       "<style scoped>\n",
       "    .dataframe tbody tr th:only-of-type {\n",
       "        vertical-align: middle;\n",
       "    }\n",
       "\n",
       "    .dataframe tbody tr th {\n",
       "        vertical-align: top;\n",
       "    }\n",
       "\n",
       "    .dataframe thead th {\n",
       "        text-align: right;\n",
       "    }\n",
       "</style>\n",
       "<table border=\"1\" class=\"dataframe\">\n",
       "  <thead>\n",
       "    <tr style=\"text-align: right;\">\n",
       "      <th></th>\n",
       "      <th>0</th>\n",
       "      <th>1</th>\n",
       "    </tr>\n",
       "  </thead>\n",
       "  <tbody>\n",
       "    <tr>\n",
       "      <th>Laci</th>\n",
       "      <td>19.067784</td>\n",
       "      <td>47.492366</td>\n",
       "    </tr>\n",
       "    <tr>\n",
       "      <th>Feri</th>\n",
       "      <td>19.115424</td>\n",
       "      <td>47.560490</td>\n",
       "    </tr>\n",
       "    <tr>\n",
       "      <th>Dani</th>\n",
       "      <td>19.063752</td>\n",
       "      <td>47.500482</td>\n",
       "    </tr>\n",
       "    <tr>\n",
       "      <th>Deni</th>\n",
       "      <td>19.030614</td>\n",
       "      <td>47.488287</td>\n",
       "    </tr>\n",
       "    <tr>\n",
       "      <th>Bius</th>\n",
       "      <td>19.072341</td>\n",
       "      <td>47.502702</td>\n",
       "    </tr>\n",
       "    <tr>\n",
       "      <th>Zoli</th>\n",
       "      <td>19.069000</td>\n",
       "      <td>47.497386</td>\n",
       "    </tr>\n",
       "    <tr>\n",
       "      <th>Peti</th>\n",
       "      <td>19.112558</td>\n",
       "      <td>47.539564</td>\n",
       "    </tr>\n",
       "    <tr>\n",
       "      <th>Nori</th>\n",
       "      <td>19.092024</td>\n",
       "      <td>47.522544</td>\n",
       "    </tr>\n",
       "    <tr>\n",
       "      <th>Boci</th>\n",
       "      <td>19.135626</td>\n",
       "      <td>47.505619</td>\n",
       "    </tr>\n",
       "    <tr>\n",
       "      <th>Coci</th>\n",
       "      <td>19.085084</td>\n",
       "      <td>47.482120</td>\n",
       "    </tr>\n",
       "    <tr>\n",
       "      <th>Loci</th>\n",
       "      <td>19.061479</td>\n",
       "      <td>47.486542</td>\n",
       "    </tr>\n",
       "    <tr>\n",
       "      <th>Apci</th>\n",
       "      <td>19.054310</td>\n",
       "      <td>47.511048</td>\n",
       "    </tr>\n",
       "    <tr>\n",
       "      <th>Shooting</th>\n",
       "      <td>18.978790</td>\n",
       "      <td>47.519992</td>\n",
       "    </tr>\n",
       "    <tr>\n",
       "      <th>Dressing</th>\n",
       "      <td>19.057607</td>\n",
       "      <td>47.473061</td>\n",
       "    </tr>\n",
       "  </tbody>\n",
       "</table>\n",
       "</div>"
      ],
      "text/plain": [
       "                  0          1\n",
       "Laci      19.067784  47.492366\n",
       "Feri      19.115424  47.560490\n",
       "Dani      19.063752  47.500482\n",
       "Deni      19.030614  47.488287\n",
       "Bius      19.072341  47.502702\n",
       "Zoli      19.069000  47.497386\n",
       "Peti      19.112558  47.539564\n",
       "Nori      19.092024  47.522544\n",
       "Boci      19.135626  47.505619\n",
       "Coci      19.085084  47.482120\n",
       "Loci      19.061479  47.486542\n",
       "Apci      19.054310  47.511048\n",
       "Shooting  18.978790  47.519992\n",
       "Dressing  19.057607  47.473061"
      ]
     },
     "execution_count": 87,
     "metadata": {},
     "output_type": "execute_result"
    }
   ],
   "source": [
    "tp.coords"
   ]
  },
  {
   "cell_type": "code",
   "execution_count": 52,
   "metadata": {},
   "outputs": [
    {
     "data": {
      "text/html": [
       "<div>\n",
       "<style scoped>\n",
       "    .dataframe tbody tr th:only-of-type {\n",
       "        vertical-align: middle;\n",
       "    }\n",
       "\n",
       "    .dataframe tbody tr th {\n",
       "        vertical-align: top;\n",
       "    }\n",
       "\n",
       "    .dataframe thead th {\n",
       "        text-align: right;\n",
       "    }\n",
       "</style>\n",
       "<table border=\"1\" class=\"dataframe\">\n",
       "  <thead>\n",
       "    <tr style=\"text-align: right;\">\n",
       "      <th></th>\n",
       "      <th>address</th>\n",
       "      <th>destination</th>\n",
       "      <th>mailto</th>\n",
       "    </tr>\n",
       "    <tr>\n",
       "      <th>name</th>\n",
       "      <th></th>\n",
       "      <th></th>\n",
       "      <th></th>\n",
       "    </tr>\n",
       "  </thead>\n",
       "  <tbody>\n",
       "    <tr>\n",
       "      <th>Bius</th>\n",
       "      <td>1077 Budapest Wesselényi utca 58.</td>\n",
       "      <td>Shooting</td>\n",
       "      <td>mor.kapronczay@gmail.com</td>\n",
       "    </tr>\n",
       "    <tr>\n",
       "      <th>Zoli</th>\n",
       "      <td>1072 Budapest Akácfa utca 4.</td>\n",
       "      <td>Dressing</td>\n",
       "      <td>mor.kapronczay@gmail.com</td>\n",
       "    </tr>\n",
       "    <tr>\n",
       "      <th>Peti</th>\n",
       "      <td>1155 Budapest Perczel Mór utca 13.</td>\n",
       "      <td>Shooting</td>\n",
       "      <td>mor.kapronczay@gmail.com</td>\n",
       "    </tr>\n",
       "    <tr>\n",
       "      <th>Nori</th>\n",
       "      <td>1142 Budapest Szőnyi út 2.</td>\n",
       "      <td>Shooting</td>\n",
       "      <td>mor.kapronczay@gmail.com</td>\n",
       "    </tr>\n",
       "    <tr>\n",
       "      <th>Boci</th>\n",
       "      <td>Budapest, Örs vezér tere 22, 1148</td>\n",
       "      <td>Dressing</td>\n",
       "      <td>mor.kapronczay@gmail.com</td>\n",
       "    </tr>\n",
       "    <tr>\n",
       "      <th>Coci</th>\n",
       "      <td>Budapest, Ludovika tér 2, 1083</td>\n",
       "      <td>Dressing</td>\n",
       "      <td>mor.kapronczay@gmail.com</td>\n",
       "    </tr>\n",
       "    <tr>\n",
       "      <th>Loci</th>\n",
       "      <td>Lónyay u. 13 Budapest 1093</td>\n",
       "      <td>Shooting</td>\n",
       "      <td>mor.kapronczay@gmail.com</td>\n",
       "    </tr>\n",
       "    <tr>\n",
       "      <th>Apci</th>\n",
       "      <td>Budapest, Szent István körút 14, 1137</td>\n",
       "      <td>Shooting</td>\n",
       "      <td>mor.kapronczay@gmail.com</td>\n",
       "    </tr>\n",
       "  </tbody>\n",
       "</table>\n",
       "</div>"
      ],
      "text/plain": [
       "                                    address destination  \\\n",
       "name                                                      \n",
       "Bius      1077 Budapest Wesselényi utca 58.    Shooting   \n",
       "Zoli           1072 Budapest Akácfa utca 4.    Dressing   \n",
       "Peti     1155 Budapest Perczel Mór utca 13.    Shooting   \n",
       "Nori             1142 Budapest Szőnyi út 2.    Shooting   \n",
       "Boci      Budapest, Örs vezér tere 22, 1148    Dressing   \n",
       "Coci         Budapest, Ludovika tér 2, 1083    Dressing   \n",
       "Loci             Lónyay u. 13 Budapest 1093    Shooting   \n",
       "Apci  Budapest, Szent István körút 14, 1137    Shooting   \n",
       "\n",
       "                        mailto  \n",
       "name                            \n",
       "Bius  mor.kapronczay@gmail.com  \n",
       "Zoli  mor.kapronczay@gmail.com  \n",
       "Peti  mor.kapronczay@gmail.com  \n",
       "Nori  mor.kapronczay@gmail.com  \n",
       "Boci  mor.kapronczay@gmail.com  \n",
       "Coci  mor.kapronczay@gmail.com  \n",
       "Loci  mor.kapronczay@gmail.com  \n",
       "Apci  mor.kapronczay@gmail.com  "
      ]
     },
     "execution_count": 52,
     "metadata": {},
     "output_type": "execute_result"
    }
   ],
   "source": [
    "tp.cast_members"
   ]
  },
  {
   "cell_type": "code",
   "execution_count": 53,
   "metadata": {},
   "outputs": [],
   "source": [
    "cast_groups = {dest: tp.cast_members[tp.cast_members['destination'] == dest] \n",
    "               for dest in tp.cast_members['destination'].unique()}"
   ]
  },
  {
   "cell_type": "code",
   "execution_count": 55,
   "metadata": {},
   "outputs": [
    {
     "data": {
      "text/html": [
       "<div>\n",
       "<style scoped>\n",
       "    .dataframe tbody tr th:only-of-type {\n",
       "        vertical-align: middle;\n",
       "    }\n",
       "\n",
       "    .dataframe tbody tr th {\n",
       "        vertical-align: top;\n",
       "    }\n",
       "\n",
       "    .dataframe thead th {\n",
       "        text-align: right;\n",
       "    }\n",
       "</style>\n",
       "<table border=\"1\" class=\"dataframe\">\n",
       "  <thead>\n",
       "    <tr style=\"text-align: right;\">\n",
       "      <th></th>\n",
       "      <th>address</th>\n",
       "      <th>destination</th>\n",
       "      <th>mailto</th>\n",
       "    </tr>\n",
       "    <tr>\n",
       "      <th>name</th>\n",
       "      <th></th>\n",
       "      <th></th>\n",
       "      <th></th>\n",
       "    </tr>\n",
       "  </thead>\n",
       "  <tbody>\n",
       "    <tr>\n",
       "      <th>Bius</th>\n",
       "      <td>1077 Budapest Wesselényi utca 58.</td>\n",
       "      <td>Shooting</td>\n",
       "      <td>mor.kapronczay@gmail.com</td>\n",
       "    </tr>\n",
       "    <tr>\n",
       "      <th>Peti</th>\n",
       "      <td>1155 Budapest Perczel Mór utca 13.</td>\n",
       "      <td>Shooting</td>\n",
       "      <td>mor.kapronczay@gmail.com</td>\n",
       "    </tr>\n",
       "    <tr>\n",
       "      <th>Nori</th>\n",
       "      <td>1142 Budapest Szőnyi út 2.</td>\n",
       "      <td>Shooting</td>\n",
       "      <td>mor.kapronczay@gmail.com</td>\n",
       "    </tr>\n",
       "    <tr>\n",
       "      <th>Loci</th>\n",
       "      <td>Lónyay u. 13 Budapest 1093</td>\n",
       "      <td>Shooting</td>\n",
       "      <td>mor.kapronczay@gmail.com</td>\n",
       "    </tr>\n",
       "    <tr>\n",
       "      <th>Apci</th>\n",
       "      <td>Budapest, Szent István körút 14, 1137</td>\n",
       "      <td>Shooting</td>\n",
       "      <td>mor.kapronczay@gmail.com</td>\n",
       "    </tr>\n",
       "  </tbody>\n",
       "</table>\n",
       "</div>"
      ],
      "text/plain": [
       "                                    address destination  \\\n",
       "name                                                      \n",
       "Bius      1077 Budapest Wesselényi utca 58.    Shooting   \n",
       "Peti     1155 Budapest Perczel Mór utca 13.    Shooting   \n",
       "Nori             1142 Budapest Szőnyi út 2.    Shooting   \n",
       "Loci             Lónyay u. 13 Budapest 1093    Shooting   \n",
       "Apci  Budapest, Szent István körút 14, 1137    Shooting   \n",
       "\n",
       "                        mailto  \n",
       "name                            \n",
       "Bius  mor.kapronczay@gmail.com  \n",
       "Peti  mor.kapronczay@gmail.com  \n",
       "Nori  mor.kapronczay@gmail.com  \n",
       "Loci  mor.kapronczay@gmail.com  \n",
       "Apci  mor.kapronczay@gmail.com  "
      ]
     },
     "execution_count": 55,
     "metadata": {},
     "output_type": "execute_result"
    }
   ],
   "source": [
    "cast_groups['Shooting']"
   ]
  },
  {
   "cell_type": "code",
   "execution_count": 59,
   "metadata": {},
   "outputs": [
    {
     "data": {
      "text/html": [
       "<div>\n",
       "<style scoped>\n",
       "    .dataframe tbody tr th:only-of-type {\n",
       "        vertical-align: middle;\n",
       "    }\n",
       "\n",
       "    .dataframe tbody tr th {\n",
       "        vertical-align: top;\n",
       "    }\n",
       "\n",
       "    .dataframe thead th {\n",
       "        text-align: right;\n",
       "    }\n",
       "</style>\n",
       "<table border=\"1\" class=\"dataframe\">\n",
       "  <thead>\n",
       "    <tr style=\"text-align: right;\">\n",
       "      <th></th>\n",
       "      <th>0</th>\n",
       "      <th>1</th>\n",
       "    </tr>\n",
       "    <tr>\n",
       "      <th>name</th>\n",
       "      <th></th>\n",
       "      <th></th>\n",
       "    </tr>\n",
       "  </thead>\n",
       "  <tbody>\n",
       "    <tr>\n",
       "      <th>Bius</th>\n",
       "      <td>19.072341</td>\n",
       "      <td>47.502702</td>\n",
       "    </tr>\n",
       "    <tr>\n",
       "      <th>Peti</th>\n",
       "      <td>19.112558</td>\n",
       "      <td>47.539564</td>\n",
       "    </tr>\n",
       "    <tr>\n",
       "      <th>Nori</th>\n",
       "      <td>19.092024</td>\n",
       "      <td>47.522544</td>\n",
       "    </tr>\n",
       "    <tr>\n",
       "      <th>Loci</th>\n",
       "      <td>19.061479</td>\n",
       "      <td>47.486542</td>\n",
       "    </tr>\n",
       "    <tr>\n",
       "      <th>Apci</th>\n",
       "      <td>19.054310</td>\n",
       "      <td>47.511048</td>\n",
       "    </tr>\n",
       "  </tbody>\n",
       "</table>\n",
       "</div>"
      ],
      "text/plain": [
       "              0          1\n",
       "name                      \n",
       "Bius  19.072341  47.502702\n",
       "Peti  19.112558  47.539564\n",
       "Nori  19.092024  47.522544\n",
       "Loci  19.061479  47.486542\n",
       "Apci  19.054310  47.511048"
      ]
     },
     "execution_count": 59,
     "metadata": {},
     "output_type": "execute_result"
    }
   ],
   "source": [
    "tp.coords.loc[cast_groups['Shooting'].index]"
   ]
  },
  {
   "cell_type": "code",
   "execution_count": 60,
   "metadata": {
    "collapsed": true
   },
   "outputs": [],
   "source": [
    "cast_groups_load = {k: v.shape[0] for k, v in cast_groups.items()}"
   ]
  },
  {
   "cell_type": "code",
   "execution_count": 61,
   "metadata": {},
   "outputs": [
    {
     "data": {
      "text/plain": [
       "{'Dressing': 3, 'Shooting': 5}"
      ]
     },
     "execution_count": 61,
     "metadata": {},
     "output_type": "execute_result"
    }
   ],
   "source": [
    "cast_groups_load"
   ]
  },
  {
   "cell_type": "code",
   "execution_count": 99,
   "metadata": {},
   "outputs": [],
   "source": [
    "clus_centers = {key: None for key in cast_groups.keys()}\n",
    "for key in cast_groups.keys():\n",
    "    if cast_groups[key].shape[0] >= tp.min_clus:\n",
    "        kmeans = KMeans(n_clusters = int(cast_groups[key].shape[0] / tp.min_clus) + 1).fit(\n",
    "            tp.coords.loc[cast_groups[key].index])\n",
    "    else:\n",
    "        kmeans = KMeans(n_clusters = 1).fit(\n",
    "            tp.coords.loc[cast_groups[key].index])\n",
    "    cast_groups[key].loc[:, 'clus'] = kmeans.labels_\n",
    "    clus_centers[key] = kmeans.cluster_centers_"
   ]
  },
  {
   "cell_type": "code",
   "execution_count": 100,
   "metadata": {},
   "outputs": [
    {
     "data": {
      "text/plain": [
       "{'Dressing': array([[19.09656996, 47.4950416 ]]),\n",
       " 'Shooting': array([[19.10229102, 47.53105396],\n",
       "        [19.06271017, 47.5000972 ]])}"
      ]
     },
     "execution_count": 100,
     "metadata": {},
     "output_type": "execute_result"
    }
   ],
   "source": [
    "clus_centers"
   ]
  },
  {
   "cell_type": "code",
   "execution_count": 97,
   "metadata": {},
   "outputs": [
    {
     "data": {
      "text/html": [
       "<div>\n",
       "<style scoped>\n",
       "    .dataframe tbody tr th:only-of-type {\n",
       "        vertical-align: middle;\n",
       "    }\n",
       "\n",
       "    .dataframe tbody tr th {\n",
       "        vertical-align: top;\n",
       "    }\n",
       "\n",
       "    .dataframe thead th {\n",
       "        text-align: right;\n",
       "    }\n",
       "</style>\n",
       "<table border=\"1\" class=\"dataframe\">\n",
       "  <thead>\n",
       "    <tr style=\"text-align: right;\">\n",
       "      <th></th>\n",
       "      <th>address</th>\n",
       "      <th>destination</th>\n",
       "      <th>mailto</th>\n",
       "      <th>clus</th>\n",
       "    </tr>\n",
       "    <tr>\n",
       "      <th>name</th>\n",
       "      <th></th>\n",
       "      <th></th>\n",
       "      <th></th>\n",
       "      <th></th>\n",
       "    </tr>\n",
       "  </thead>\n",
       "  <tbody>\n",
       "    <tr>\n",
       "      <th>Zoli</th>\n",
       "      <td>1072 Budapest Akácfa utca 4.</td>\n",
       "      <td>Dressing</td>\n",
       "      <td>mor.kapronczay@gmail.com</td>\n",
       "      <td>0</td>\n",
       "    </tr>\n",
       "    <tr>\n",
       "      <th>Boci</th>\n",
       "      <td>Budapest, Örs vezér tere 22, 1148</td>\n",
       "      <td>Dressing</td>\n",
       "      <td>mor.kapronczay@gmail.com</td>\n",
       "      <td>0</td>\n",
       "    </tr>\n",
       "    <tr>\n",
       "      <th>Coci</th>\n",
       "      <td>Budapest, Ludovika tér 2, 1083</td>\n",
       "      <td>Dressing</td>\n",
       "      <td>mor.kapronczay@gmail.com</td>\n",
       "      <td>0</td>\n",
       "    </tr>\n",
       "  </tbody>\n",
       "</table>\n",
       "</div>"
      ],
      "text/plain": [
       "                                address destination                    mailto  \\\n",
       "name                                                                            \n",
       "Zoli       1072 Budapest Akácfa utca 4.    Dressing  mor.kapronczay@gmail.com   \n",
       "Boci  Budapest, Örs vezér tere 22, 1148    Dressing  mor.kapronczay@gmail.com   \n",
       "Coci     Budapest, Ludovika tér 2, 1083    Dressing  mor.kapronczay@gmail.com   \n",
       "\n",
       "      clus  \n",
       "name        \n",
       "Zoli     0  \n",
       "Boci     0  \n",
       "Coci     0  "
      ]
     },
     "execution_count": 97,
     "metadata": {},
     "output_type": "execute_result"
    }
   ],
   "source": [
    "cast_groups['Dressing']"
   ]
  },
  {
   "cell_type": "code",
   "execution_count": 98,
   "metadata": {},
   "outputs": [
    {
     "data": {
      "text/html": [
       "<div>\n",
       "<style scoped>\n",
       "    .dataframe tbody tr th:only-of-type {\n",
       "        vertical-align: middle;\n",
       "    }\n",
       "\n",
       "    .dataframe tbody tr th {\n",
       "        vertical-align: top;\n",
       "    }\n",
       "\n",
       "    .dataframe thead th {\n",
       "        text-align: right;\n",
       "    }\n",
       "</style>\n",
       "<table border=\"1\" class=\"dataframe\">\n",
       "  <thead>\n",
       "    <tr style=\"text-align: right;\">\n",
       "      <th></th>\n",
       "      <th>address</th>\n",
       "      <th>destination</th>\n",
       "      <th>mailto</th>\n",
       "      <th>clus</th>\n",
       "    </tr>\n",
       "    <tr>\n",
       "      <th>name</th>\n",
       "      <th></th>\n",
       "      <th></th>\n",
       "      <th></th>\n",
       "      <th></th>\n",
       "    </tr>\n",
       "  </thead>\n",
       "  <tbody>\n",
       "    <tr>\n",
       "      <th>Bius</th>\n",
       "      <td>1077 Budapest Wesselényi utca 58.</td>\n",
       "      <td>Shooting</td>\n",
       "      <td>mor.kapronczay@gmail.com</td>\n",
       "      <td>0</td>\n",
       "    </tr>\n",
       "    <tr>\n",
       "      <th>Peti</th>\n",
       "      <td>1155 Budapest Perczel Mór utca 13.</td>\n",
       "      <td>Shooting</td>\n",
       "      <td>mor.kapronczay@gmail.com</td>\n",
       "      <td>1</td>\n",
       "    </tr>\n",
       "    <tr>\n",
       "      <th>Nori</th>\n",
       "      <td>1142 Budapest Szőnyi út 2.</td>\n",
       "      <td>Shooting</td>\n",
       "      <td>mor.kapronczay@gmail.com</td>\n",
       "      <td>1</td>\n",
       "    </tr>\n",
       "    <tr>\n",
       "      <th>Loci</th>\n",
       "      <td>Lónyay u. 13 Budapest 1093</td>\n",
       "      <td>Shooting</td>\n",
       "      <td>mor.kapronczay@gmail.com</td>\n",
       "      <td>0</td>\n",
       "    </tr>\n",
       "    <tr>\n",
       "      <th>Apci</th>\n",
       "      <td>Budapest, Szent István körút 14, 1137</td>\n",
       "      <td>Shooting</td>\n",
       "      <td>mor.kapronczay@gmail.com</td>\n",
       "      <td>0</td>\n",
       "    </tr>\n",
       "  </tbody>\n",
       "</table>\n",
       "</div>"
      ],
      "text/plain": [
       "                                    address destination  \\\n",
       "name                                                      \n",
       "Bius      1077 Budapest Wesselényi utca 58.    Shooting   \n",
       "Peti     1155 Budapest Perczel Mór utca 13.    Shooting   \n",
       "Nori             1142 Budapest Szőnyi út 2.    Shooting   \n",
       "Loci             Lónyay u. 13 Budapest 1093    Shooting   \n",
       "Apci  Budapest, Szent István körút 14, 1137    Shooting   \n",
       "\n",
       "                        mailto  clus  \n",
       "name                                  \n",
       "Bius  mor.kapronczay@gmail.com     0  \n",
       "Peti  mor.kapronczay@gmail.com     1  \n",
       "Nori  mor.kapronczay@gmail.com     1  \n",
       "Loci  mor.kapronczay@gmail.com     0  \n",
       "Apci  mor.kapronczay@gmail.com     0  "
      ]
     },
     "execution_count": 98,
     "metadata": {},
     "output_type": "execute_result"
    }
   ],
   "source": [
    "cast_groups['Shooting']"
   ]
  },
  {
   "cell_type": "code",
   "execution_count": null,
   "metadata": {
    "collapsed": true
   },
   "outputs": [],
   "source": []
  },
  {
   "cell_type": "code",
   "execution_count": null,
   "metadata": {
    "collapsed": true
   },
   "outputs": [],
   "source": []
  },
  {
   "cell_type": "code",
   "execution_count": null,
   "metadata": {
    "collapsed": true
   },
   "outputs": [],
   "source": []
  },
  {
   "cell_type": "code",
   "execution_count": null,
   "metadata": {
    "collapsed": true
   },
   "outputs": [],
   "source": []
  },
  {
   "cell_type": "code",
   "execution_count": null,
   "metadata": {
    "collapsed": true
   },
   "outputs": [],
   "source": []
  },
  {
   "cell_type": "markdown",
   "metadata": {},
   "source": [
    "## ALGORITHM"
   ]
  },
  {
   "cell_type": "code",
   "execution_count": null,
   "metadata": {
    "collapsed": true
   },
   "outputs": [],
   "source": [
    "coords = {k: (v.longitude, v.latitude) for k, v in locations.items()}"
   ]
  },
  {
   "cell_type": "code",
   "execution_count": null,
   "metadata": {
    "collapsed": true
   },
   "outputs": [],
   "source": [
    "coords_df = pd.DataFrame.from_dict(coords, orient='index')"
   ]
  },
  {
   "cell_type": "code",
   "execution_count": null,
   "metadata": {
    "collapsed": true
   },
   "outputs": [],
   "source": [
    "cast_df = coords_df.loc[[f for f in coords_df.index if 'cast' in f]]"
   ]
  },
  {
   "cell_type": "code",
   "execution_count": null,
   "metadata": {
    "collapsed": true
   },
   "outputs": [],
   "source": [
    "cast_df"
   ]
  },
  {
   "cell_type": "code",
   "execution_count": null,
   "metadata": {
    "collapsed": true
   },
   "outputs": [],
   "source": [
    "clus = KMeans(n_clusters=driver_num)"
   ]
  },
  {
   "cell_type": "code",
   "execution_count": null,
   "metadata": {
    "collapsed": true
   },
   "outputs": [],
   "source": [
    "clus.fit(cast_df)"
   ]
  },
  {
   "cell_type": "code",
   "execution_count": null,
   "metadata": {
    "collapsed": true
   },
   "outputs": [],
   "source": [
    "clus.labels_"
   ]
  },
  {
   "cell_type": "code",
   "execution_count": null,
   "metadata": {
    "collapsed": true
   },
   "outputs": [],
   "source": [
    "clus.cluster_centers_"
   ]
  },
  {
   "cell_type": "code",
   "execution_count": null,
   "metadata": {
    "collapsed": true
   },
   "outputs": [],
   "source": [
    "drivers_df = coords_df.loc[[f for f in coords_df.index if 'driver' in f]]"
   ]
  },
  {
   "cell_type": "code",
   "execution_count": null,
   "metadata": {
    "collapsed": true
   },
   "outputs": [],
   "source": [
    "drivers_df"
   ]
  },
  {
   "cell_type": "code",
   "execution_count": null,
   "metadata": {
    "collapsed": true
   },
   "outputs": [],
   "source": [
    "clusters_df = pd.DataFrame(clus.cluster_centers_)"
   ]
  },
  {
   "cell_type": "code",
   "execution_count": null,
   "metadata": {
    "collapsed": true
   },
   "outputs": [],
   "source": [
    "clusters_df"
   ]
  },
  {
   "cell_type": "code",
   "execution_count": null,
   "metadata": {
    "collapsed": true
   },
   "outputs": [],
   "source": [
    "get_duration(clusters_df.loc[0], drivers_df.iloc[0], loc=False)"
   ]
  },
  {
   "cell_type": "code",
   "execution_count": null,
   "metadata": {
    "collapsed": true
   },
   "outputs": [],
   "source": [
    "get_duration(clusters_df.loc[0], drivers_df.iloc[1], loc=False)"
   ]
  },
  {
   "cell_type": "code",
   "execution_count": null,
   "metadata": {
    "collapsed": true
   },
   "outputs": [],
   "source": [
    "matching_dict = {}\n",
    "for driver in drivers_df.index:\n",
    "    min_ = 10000000\n",
    "    match = None\n",
    "    for clus_cent in clusters_df.index:\n",
    "        dur = get_duration(drivers_df.loc[driver], clusters_df.loc[clus_cent], loc = False)\n",
    "        if  dur < min_:\n",
    "            matching_dict[driver] = clus_cent\n",
    "            min_ = dur\n",
    "            \n",
    "if len(matching_dict.values) != len(set(matching_dict.values)):\n",
    "    left_out = [f for f in clus_cent if not f in matching_dict.values()]\n",
    "    \n",
    "## kezelni hogy kaphatják ugyanazt a clustert \n",
    "# ami tobb helyre került - legközelebbihez\n",
    "# maradéknál pedig a left_outból a legközelebbit, kivéve ami sokszor volt\n",
    "# ha még mindig para van folytasd amig nincs 1:1"
   ]
  },
  {
   "cell_type": "code",
   "execution_count": null,
   "metadata": {
    "collapsed": true
   },
   "outputs": [],
   "source": [
    "len(matching_dict.values()) != len(set(matching_dict.values()))"
   ]
  },
  {
   "cell_type": "code",
   "execution_count": null,
   "metadata": {
    "collapsed": true
   },
   "outputs": [],
   "source": [
    "matching_dict"
   ]
  },
  {
   "cell_type": "code",
   "execution_count": null,
   "metadata": {
    "collapsed": true
   },
   "outputs": [],
   "source": []
  },
  {
   "cell_type": "code",
   "execution_count": null,
   "metadata": {
    "collapsed": true
   },
   "outputs": [],
   "source": []
  },
  {
   "cell_type": "code",
   "execution_count": null,
   "metadata": {
    "collapsed": true
   },
   "outputs": [],
   "source": []
  },
  {
   "cell_type": "code",
   "execution_count": null,
   "metadata": {
    "collapsed": true
   },
   "outputs": [],
   "source": []
  },
  {
   "cell_type": "code",
   "execution_count": null,
   "metadata": {
    "collapsed": true
   },
   "outputs": [],
   "source": []
  },
  {
   "cell_type": "code",
   "execution_count": null,
   "metadata": {
    "collapsed": true
   },
   "outputs": [],
   "source": []
  },
  {
   "cell_type": "code",
   "execution_count": null,
   "metadata": {
    "collapsed": true
   },
   "outputs": [],
   "source": []
  },
  {
   "cell_type": "code",
   "execution_count": null,
   "metadata": {
    "collapsed": true
   },
   "outputs": [],
   "source": []
  },
  {
   "cell_type": "code",
   "execution_count": null,
   "metadata": {
    "collapsed": true
   },
   "outputs": [],
   "source": []
  },
  {
   "cell_type": "code",
   "execution_count": null,
   "metadata": {
    "collapsed": true
   },
   "outputs": [],
   "source": []
  },
  {
   "cell_type": "code",
   "execution_count": null,
   "metadata": {
    "collapsed": true
   },
   "outputs": [],
   "source": []
  },
  {
   "cell_type": "code",
   "execution_count": null,
   "metadata": {
    "collapsed": true
   },
   "outputs": [],
   "source": []
  },
  {
   "cell_type": "code",
   "execution_count": null,
   "metadata": {
    "collapsed": true
   },
   "outputs": [],
   "source": []
  },
  {
   "cell_type": "code",
   "execution_count": null,
   "metadata": {
    "collapsed": true
   },
   "outputs": [],
   "source": []
  },
  {
   "cell_type": "code",
   "execution_count": null,
   "metadata": {
    "collapsed": true
   },
   "outputs": [],
   "source": []
  },
  {
   "cell_type": "code",
   "execution_count": null,
   "metadata": {
    "collapsed": true
   },
   "outputs": [],
   "source": [
    "relations = [element for element in itertools.product(*[locations.keys(), locations.keys()]) if (\n",
    "    (element[0] != element[1]) &\n",
    "    (not element[0].startswith('drivers') & element[1].startswith('drivers')))]\n"
   ]
  },
  {
   "cell_type": "code",
   "execution_count": null,
   "metadata": {
    "collapsed": true
   },
   "outputs": [],
   "source": [
    "edgelist[edgelist['start'] == 'drivers_Laci']"
   ]
  },
  {
   "cell_type": "markdown",
   "metadata": {},
   "source": [
    "## CREATE GRAPH"
   ]
  },
  {
   "cell_type": "code",
   "execution_count": null,
   "metadata": {
    "collapsed": true
   },
   "outputs": [],
   "source": [
    "graph_edges = []\n",
    "for first, second in relations:\n",
    "    if not (second, first) in graph_edges:\n",
    "        graph_edges.append((first, second))"
   ]
  },
  {
   "cell_type": "code",
   "execution_count": null,
   "metadata": {
    "collapsed": true
   },
   "outputs": [],
   "source": [
    "edgelist = pd.DataFrame(graph_edges, columns = ['start', 'end'])"
   ]
  },
  {
   "cell_type": "code",
   "execution_count": null,
   "metadata": {
    "collapsed": true
   },
   "outputs": [],
   "source": [
    "def get_distance(row):\n",
    "    return get_duration(locations[row['start']], locations[row['end']])"
   ]
  },
  {
   "cell_type": "code",
   "execution_count": null,
   "metadata": {
    "collapsed": true,
    "scrolled": true
   },
   "outputs": [],
   "source": [
    "edgelist['dist'] = edgelist.apply(get_distance, axis = 1)"
   ]
  },
  {
   "cell_type": "code",
   "execution_count": null,
   "metadata": {
    "collapsed": true
   },
   "outputs": [],
   "source": [
    "vertices = list(set(list(edgelist['start'].unique()) + list(edgelist['end'].unique())))"
   ]
  },
  {
   "cell_type": "code",
   "execution_count": null,
   "metadata": {
    "collapsed": true
   },
   "outputs": [],
   "source": [
    "vertices = {i: {'name': vertices[i]} for i in range(len(vertices))}"
   ]
  },
  {
   "cell_type": "code",
   "execution_count": null,
   "metadata": {
    "collapsed": true
   },
   "outputs": [],
   "source": [
    "vertex_indices = {v['name']: k for k, v in vertices.items()}"
   ]
  },
  {
   "cell_type": "code",
   "execution_count": null,
   "metadata": {
    "collapsed": true
   },
   "outputs": [],
   "source": [
    "edges = [(vertex_indices[row['start']], vertex_indices[row['end']], row['dist']) for i, row in edgelist.iterrows()]"
   ]
  },
  {
   "cell_type": "code",
   "execution_count": null,
   "metadata": {
    "collapsed": true
   },
   "outputs": [],
   "source": [
    "G = nx.Graph()"
   ]
  },
  {
   "cell_type": "code",
   "execution_count": null,
   "metadata": {
    "collapsed": true
   },
   "outputs": [],
   "source": [
    "for k, v in vertex_indices.items():\n",
    "    G.add_nodes_from([v], name=k)"
   ]
  },
  {
   "cell_type": "code",
   "execution_count": null,
   "metadata": {
    "collapsed": true
   },
   "outputs": [],
   "source": [
    "G.add_weighted_edges_from(edges)"
   ]
  },
  {
   "cell_type": "code",
   "execution_count": null,
   "metadata": {
    "collapsed": true
   },
   "outputs": [],
   "source": []
  },
  {
   "cell_type": "code",
   "execution_count": null,
   "metadata": {
    "collapsed": true
   },
   "outputs": [],
   "source": []
  },
  {
   "cell_type": "code",
   "execution_count": null,
   "metadata": {
    "collapsed": true
   },
   "outputs": [],
   "source": []
  },
  {
   "cell_type": "code",
   "execution_count": null,
   "metadata": {
    "collapsed": true
   },
   "outputs": [],
   "source": []
  },
  {
   "cell_type": "code",
   "execution_count": null,
   "metadata": {
    "collapsed": true
   },
   "outputs": [],
   "source": []
  },
  {
   "cell_type": "code",
   "execution_count": null,
   "metadata": {
    "collapsed": true
   },
   "outputs": [],
   "source": []
  },
  {
   "cell_type": "code",
   "execution_count": null,
   "metadata": {
    "collapsed": true
   },
   "outputs": [],
   "source": [
    "m = folium.Map(location=(feriloc.latitude, feriloc.longitude))\n",
    "\n",
    "folium.GeoJson(\n",
    "    geojson,\n",
    "    name='geojson'\n",
    ").add_to(m)"
   ]
  },
  {
   "cell_type": "code",
   "execution_count": null,
   "metadata": {
    "collapsed": true
   },
   "outputs": [],
   "source": [
    "m"
   ]
  }
 ],
 "metadata": {
  "kernelspec": {
   "display_name": "Python 3",
   "language": "python",
   "name": "python3"
  },
  "language_info": {
   "codemirror_mode": {
    "name": "ipython",
    "version": 3
   },
   "file_extension": ".py",
   "mimetype": "text/x-python",
   "name": "python",
   "nbconvert_exporter": "python",
   "pygments_lexer": "ipython3",
   "version": "3.6.3"
  }
 },
 "nbformat": 4,
 "nbformat_minor": 2
}
