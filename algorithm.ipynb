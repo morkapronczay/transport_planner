{
 "cells": [
  {
   "cell_type": "code",
   "execution_count": 1,
   "metadata": {},
   "outputs": [],
   "source": [
    "import geopy\n",
    "from geopy.geocoders import Nominatim\n",
    "import requests\n",
    "import folium\n",
    "import pandas as pd\n",
    "from time import sleep\n",
    "from copy import deepcopy\n",
    "\n",
    "pd.options.mode.chained_assignment = None"
   ]
  },
  {
   "cell_type": "markdown",
   "metadata": {},
   "source": [
    "## LOAD DATA"
   ]
  },
  {
   "cell_type": "code",
   "execution_count": 2,
   "metadata": {},
   "outputs": [],
   "source": [
    "with open('cast_types.txt', 'r') as file:\n",
    "    cast_types = [f.strip('\\n') for f in file.readlines()]"
   ]
  },
  {
   "cell_type": "code",
   "execution_count": 3,
   "metadata": {},
   "outputs": [],
   "source": [
    "data = {}\n",
    "for cast_ in cast_types:\n",
    "    data[cast_] = pd.read_csv(f'data/{cast_}.csv').set_index('name')"
   ]
  },
  {
   "cell_type": "markdown",
   "metadata": {},
   "source": [
    "## DIRECTIONS API"
   ]
  },
  {
   "cell_type": "code",
   "execution_count": 4,
   "metadata": {},
   "outputs": [],
   "source": [
    "with open('gitignore/api_key.txt') as fh:\n",
    "    api_key = fh.read()"
   ]
  },
  {
   "cell_type": "code",
   "execution_count": 5,
   "metadata": {},
   "outputs": [],
   "source": [
    "geolocator = Nominatim(user_agent=\"Transport_planner\")"
   ]
  },
  {
   "cell_type": "markdown",
   "metadata": {},
   "source": [
    "## CREATE OBJECT"
   ]
  },
  {
   "cell_type": "code",
   "execution_count": 6,
   "metadata": {},
   "outputs": [],
   "source": [
    "class TransportPlanner(object):\n",
    "    \n",
    "    def __init__(self, supervisors, drivers, cast_members, destinations, geolocator=geolocator, api_key=api_key):\n",
    "        self.supervisors = supervisors\n",
    "        self.drivers = drivers\n",
    "        self.cast_members = cast_members\n",
    "        self.destinations = destinations\n",
    "        self.all_locs = [self.supervisors, self.drivers, self.cast_members, self.destinations]\n",
    "        self.geolocator = geolocator\n",
    "        self.api_key = api_key\n",
    "        self.capacities = sorted(list(set(tp.drivers['capacity'])))\n",
    "        with open('cast_types.txt', 'r') as file:\n",
    "            self.cast_types = [f.strip('\\n') for f in file.readlines()] \n",
    "        \n",
    "    def __str__(self):\n",
    "        return('This is a transport planner object.')\n",
    "    \n",
    "    \n",
    "    def get_locations(self):\n",
    "        self.locations = {}\n",
    "        for df in self.all_locs:\n",
    "            for ind, row in df.iterrows():\n",
    "                try:\n",
    "                    self.locations[ind] = self.geolocator.geocode(row['address'])\n",
    "                except:\n",
    "                    continue\n",
    "    \n",
    "    def get_coordinates(self):\n",
    "        self.coords = pd.DataFrame({k: (v.longitude, v.latitude) for k, v in self.locations.items()}).T\n",
    "    \n",
    "    def get_directions_locations(self, loc_1, loc_2):\n",
    "        # get direction as a geojson\n",
    "        url = f\"https://api.openrouteservice.org/v2/directions/driving-car?api_key={self.api_key}&start={str(loc_1.longitude)},{str(loc_1.latitude)}&end={str(loc_2.longitude)},{str(loc_2.latitude)}\"\n",
    "        r = requests.get(url)\n",
    "        return r.json()\n",
    "    \n",
    "    def get_directions_coords(self, coords_1, coords_2):\n",
    "        # get direction as a geojson\n",
    "        url = f\"https://api.openrouteservice.org/v2/directions/driving-car?api_key={self.api_key}&start={str(coords_1[0])},{str(coords_1[1])}&end={str(coords_2[0])},{str(coords_2[1])}\"\n",
    "        r = requests.get(url)\n",
    "        return r.json()\n",
    "    \n",
    "    def get_duration(self, loc_1, loc_2, loc=True):\n",
    "        # return time of route plan in seconds\n",
    "        if loc:\n",
    "            geojson = self.get_directions_locations(loc_1, loc_2)\n",
    "        else:\n",
    "            geojson = self.get_directions_coords(loc_1, loc_2)\n",
    "        return geojson, geojson['features'][0]['properties']['segments'][0]['duration']\n",
    "    \n",
    "    def get_distance_matrix(self):\n",
    "        dist_table = {}\n",
    "        geojsons = {}\n",
    "        counter = 0\n",
    "        for key, loc in self.locations.items():\n",
    "            dist_table[key] = {}\n",
    "            geojsons[key] = {}\n",
    "            for keyy, locc in self.locations.items():\n",
    "                \n",
    "                # for rate limit\n",
    "                counter += 1\n",
    "                if counter > 39:\n",
    "                    sleep(60)\n",
    "                    counter = 0\n",
    "                else:\n",
    "                    pass\n",
    "                \n",
    "                # get durations\n",
    "                if key == keyy:\n",
    "                    dur = 0\n",
    "                else:\n",
    "                    geojson, dur = self.get_duration(loc, locc, True)\n",
    "                geojsons[key][keyy] = geojson\n",
    "                dist_table[key][keyy] = dur\n",
    "                \n",
    "        self.dist_table = dist_table\n",
    "        self.geojsons = geojsons\n",
    "        return None"
   ]
  },
  {
   "cell_type": "code",
   "execution_count": 7,
   "metadata": {},
   "outputs": [],
   "source": [
    "tp = TransportPlanner(*[data[f] for f in cast_types])"
   ]
  },
  {
   "cell_type": "code",
   "execution_count": 8,
   "metadata": {},
   "outputs": [],
   "source": [
    "tp.get_locations()"
   ]
  },
  {
   "cell_type": "code",
   "execution_count": 9,
   "metadata": {},
   "outputs": [],
   "source": [
    "tp.get_coordinates()"
   ]
  },
  {
   "cell_type": "code",
   "execution_count": 10,
   "metadata": {},
   "outputs": [
    {
     "data": {
      "text/plain": [
       "{'Laci': {'Laci': 0,\n",
       "  'Feri': 1053.2,\n",
       "  'Dani': 264.3,\n",
       "  'Deni': 530.8,\n",
       "  'Bius': 237.9,\n",
       "  'Zoli': 132.0,\n",
       "  'Peti': 840.4,\n",
       "  'Nori': 837.9,\n",
       "  'Boci': 729.9,\n",
       "  'Coci': 399.2,\n",
       "  'Loci': 254.6,\n",
       "  'Apci': 413.8,\n",
       "  'Shooting': 1197.4,\n",
       "  'Dressing': 444.0},\n",
       " 'Feri': {'Laci': 1129.2,\n",
       "  'Feri': 0,\n",
       "  'Dani': 946.8,\n",
       "  'Deni': 1399.5,\n",
       "  'Bius': 868.3,\n",
       "  'Zoli': 970.8,\n",
       "  'Peti': 437.5,\n",
       "  'Nori': 610.1,\n",
       "  'Boci': 848.6,\n",
       "  'Coci': 1261.0,\n",
       "  'Loci': 1228.4,\n",
       "  'Apci': 1010.7,\n",
       "  'Shooting': 1788.2,\n",
       "  'Dressing': 1417.9},\n",
       " 'Dani': {'Laci': 270.4,\n",
       "  'Feri': 936.8,\n",
       "  'Dani': 0,\n",
       "  'Deni': 525.3,\n",
       "  'Bius': 176.8,\n",
       "  'Zoli': 116.2,\n",
       "  'Peti': 724.0,\n",
       "  'Nori': 723.1,\n",
       "  'Boci': 729.9,\n",
       "  'Coci': 518.5,\n",
       "  'Loci': 373.9,\n",
       "  'Apci': 297.5,\n",
       "  'Shooting': 1080.5,\n",
       "  'Dressing': 563.3},\n",
       " 'Deni': {'Laci': 575.4,\n",
       "  'Feri': 1406.0,\n",
       "  'Dani': 497.4,\n",
       "  'Deni': 0,\n",
       "  'Bius': 590.7,\n",
       "  'Zoli': 496.9,\n",
       "  'Peti': 1193.2,\n",
       "  'Nori': 1192.2,\n",
       "  'Boci': 1094.9,\n",
       "  'Coci': 796.8,\n",
       "  'Loci': 461.1,\n",
       "  'Apci': 669.2,\n",
       "  'Shooting': 836.0,\n",
       "  'Dressing': 518.2},\n",
       " 'Bius': {'Laci': 298.2,\n",
       "  'Feri': 867.8,\n",
       "  'Dani': 170.7,\n",
       "  'Deni': 570.1,\n",
       "  'Bius': 0,\n",
       "  'Zoli': 139.8,\n",
       "  'Peti': 655.0,\n",
       "  'Nori': 654.1,\n",
       "  'Boci': 666.6,\n",
       "  'Coci': 540.2,\n",
       "  'Loci': 397.4,\n",
       "  'Apci': 315.8,\n",
       "  'Shooting': 1099.3,\n",
       "  'Dressing': 586.9},\n",
       " 'Zoli': {'Laci': 215.8,\n",
       "  'Feri': 957.6,\n",
       "  'Dani': 136.6,\n",
       "  'Deni': 487.8,\n",
       "  'Bius': 142.3,\n",
       "  'Zoli': 0,\n",
       "  'Peti': 744.8,\n",
       "  'Nori': 743.9,\n",
       "  'Boci': 671.1,\n",
       "  'Coci': 459.7,\n",
       "  'Loci': 315.1,\n",
       "  'Apci': 318.2,\n",
       "  'Shooting': 1101.8,\n",
       "  'Dressing': 504.5},\n",
       " 'Peti': {'Laci': 1030.4,\n",
       "  'Feri': 370.0,\n",
       "  'Dani': 848.0,\n",
       "  'Deni': 1300.7,\n",
       "  'Bius': 769.4,\n",
       "  'Zoli': 872.0,\n",
       "  'Peti': 0,\n",
       "  'Nori': 511.3,\n",
       "  'Boci': 537.3,\n",
       "  'Coci': 1111.5,\n",
       "  'Loci': 1129.6,\n",
       "  'Apci': 936.4,\n",
       "  'Shooting': 1719.9,\n",
       "  'Dressing': 1319.1},\n",
       " 'Nori': {'Laci': 860.6,\n",
       "  'Feri': 696.9,\n",
       "  'Dani': 678.3,\n",
       "  'Deni': 1130.9,\n",
       "  'Bius': 599.7,\n",
       "  'Zoli': 702.3,\n",
       "  'Peti': 484.1,\n",
       "  'Nori': 0,\n",
       "  'Boci': 603.7,\n",
       "  'Coci': 985.8,\n",
       "  'Loci': 959.9,\n",
       "  'Apci': 758.2,\n",
       "  'Shooting': 1541.7,\n",
       "  'Dressing': 1149.3},\n",
       " 'Boci': {'Laci': 891.3,\n",
       "  'Feri': 862.8,\n",
       "  'Dani': 851.0,\n",
       "  'Deni': 1163.2,\n",
       "  'Bius': 724.1,\n",
       "  'Zoli': 732.9,\n",
       "  'Peti': 566.4,\n",
       "  'Nori': 684.8,\n",
       "  'Boci': 0,\n",
       "  'Coci': 778.8,\n",
       "  'Loci': 980.7,\n",
       "  'Apci': 988.9,\n",
       "  'Shooting': 1772.5,\n",
       "  'Dressing': 1143.5},\n",
       " 'Coci': {'Laci': 475.0,\n",
       "  'Feri': 1279.3,\n",
       "  'Dani': 559.3,\n",
       "  'Deni': 776.5,\n",
       "  'Bius': 491.6,\n",
       "  'Zoli': 422.7,\n",
       "  'Peti': 1066.5,\n",
       "  'Nori': 1001.7,\n",
       "  'Boci': 723.9,\n",
       "  'Coci': 0,\n",
       "  'Loci': 440.8,\n",
       "  'Apci': 704.5,\n",
       "  'Shooting': 1416.9,\n",
       "  'Dressing': 609.5},\n",
       " 'Loci': {'Laci': 355.3,\n",
       "  'Feri': 1224.2,\n",
       "  'Dani': 327.5,\n",
       "  'Deni': 407.9,\n",
       "  'Bius': 408.9,\n",
       "  'Zoli': 302.9,\n",
       "  'Peti': 1011.4,\n",
       "  'Nori': 1008.9,\n",
       "  'Boci': 900.9,\n",
       "  'Coci': 438.8,\n",
       "  'Loci': 0,\n",
       "  'Apci': 568.7,\n",
       "  'Shooting': 1045.5,\n",
       "  'Dressing': 418.2},\n",
       " 'Apci': {'Laci': 760.0,\n",
       "  'Feri': 1284.7,\n",
       "  'Dani': 569.9,\n",
       "  'Deni': 613.3,\n",
       "  'Bius': 613.0,\n",
       "  'Zoli': 601.7,\n",
       "  'Peti': 1111.5,\n",
       "  'Nori': 1031.3,\n",
       "  'Boci': 1190.1,\n",
       "  'Coci': 1003.9,\n",
       "  'Loci': 781.9,\n",
       "  'Apci': 0,\n",
       "  'Shooting': 783.7,\n",
       "  'Dressing': 820.1},\n",
       " 'Shooting': {'Laci': 1190.5,\n",
       "  'Feri': 1817.0,\n",
       "  'Dani': 1050.6,\n",
       "  'Deni': 761.8,\n",
       "  'Bius': 1145.3,\n",
       "  'Zoli': 1111.9,\n",
       "  'Peti': 1643.8,\n",
       "  'Nori': 1563.7,\n",
       "  'Boci': 1709.9,\n",
       "  'Coci': 1411.9,\n",
       "  'Loci': 1076.1,\n",
       "  'Apci': 915.9,\n",
       "  'Shooting': 0,\n",
       "  'Dressing': 1140.1},\n",
       " 'Dressing': {'Laci': 452.3,\n",
       "  'Feri': 1321.2,\n",
       "  'Dani': 536.5,\n",
       "  'Deni': 489.5,\n",
       "  'Bius': 505.9,\n",
       "  'Zoli': 399.9,\n",
       "  'Peti': 1108.4,\n",
       "  'Nori': 1105.9,\n",
       "  'Boci': 997.9,\n",
       "  'Coci': 532.8,\n",
       "  'Loci': 387.5,\n",
       "  'Apci': 681.8,\n",
       "  'Shooting': 1127.1,\n",
       "  'Dressing': 0}}"
      ]
     },
     "execution_count": 10,
     "metadata": {},
     "output_type": "execute_result"
    }
   ],
   "source": [
    "tp.get_distance_matrix()"
   ]
  },
  {
   "cell_type": "code",
   "execution_count": 11,
   "metadata": {},
   "outputs": [
    {
     "data": {
      "text/plain": [
       "1129.2"
      ]
     },
     "execution_count": 11,
     "metadata": {},
     "output_type": "execute_result"
    }
   ],
   "source": [
    "tp.dist_table['Feri']['Laci']"
   ]
  },
  {
   "cell_type": "code",
   "execution_count": 14,
   "metadata": {},
   "outputs": [],
   "source": [
    "dest = tp.destinations.index[0]"
   ]
  },
  {
   "cell_type": "code",
   "execution_count": 131,
   "metadata": {},
   "outputs": [],
   "source": [
    "def optimize_destination(dest):\n",
    "    cast_done = []\n",
    "    drivers = {}\n",
    "    \n",
    "\n",
    "def get_optimal_route(dest, capacity, cast_done):\n",
    "    driving_order = [dest]\n",
    "    cast_solved = []\n",
    "    start = dest\n",
    "    relevant_cast_names = tp.cast_members[tp.cast_members['destination'] == dest].index\n",
    "    relevant_cast_names = [f for f in relevant_cast_names if not f in cast_done]\n",
    "    while len(driving_order) < capacity + 1:\n",
    "        if len(relevant_cast_names) == 0:\n",
    "            return driving_order\n",
    "        next_cast = get_next_cast_member(start, relevant_cast_names)\n",
    "        driving_order.append(next_cast)\n",
    "        relevant_cast_names = [f for f in relevant_cast_names if not f in driving_order]\n",
    "        start = next_cast\n",
    "    return driving_order\n",
    "    \n",
    "def get_next_cast_member(start, relevant_cast_names):\n",
    "    relevant_dists = {k: v for k, v in tp.dist_table[start].items() if k in relevant_cast_names}\n",
    "    return min(relevant_dists, key=relevant_dists.get)"
   ]
  },
  {
   "cell_type": "code",
   "execution_count": 140,
   "metadata": {},
   "outputs": [],
   "source": [
    "## itt kéne megoldani, hogy egy helyszínt fullba megcsináljunk, vezetőket allokáljunk\n",
    "\n",
    "cast_done = []\n",
    "drivers = {}\n",
    "relevant_cast = tp.cast_members[tp.cast_members['destination'] == dest].index\n",
    "#while cast_done"
   ]
  },
  {
   "cell_type": "code",
   "execution_count": 141,
   "metadata": {},
   "outputs": [
    {
     "data": {
      "text/plain": [
       "Index(['Bius', 'Peti', 'Nori', 'Loci', 'Apci'], dtype='object', name='name')"
      ]
     },
     "execution_count": 141,
     "metadata": {},
     "output_type": "execute_result"
    }
   ],
   "source": [
    "relevant_cast"
   ]
  },
  {
   "cell_type": "code",
   "execution_count": null,
   "metadata": {},
   "outputs": [],
   "source": []
  },
  {
   "cell_type": "code",
   "execution_count": null,
   "metadata": {},
   "outputs": [],
   "source": []
  },
  {
   "cell_type": "code",
   "execution_count": 132,
   "metadata": {},
   "outputs": [
    {
     "data": {
      "text/plain": [
       "['Shooting', 'Apci', 'Bius', 'Loci']"
      ]
     },
     "execution_count": 132,
     "metadata": {},
     "output_type": "execute_result"
    }
   ],
   "source": [
    "ut = get_optimal_route('Shooting', 3, [])\n",
    "ut"
   ]
  },
  {
   "cell_type": "code",
   "execution_count": 133,
   "metadata": {},
   "outputs": [],
   "source": [
    "ut2 = get_optimal_route('Shooting', 3, ut)"
   ]
  },
  {
   "cell_type": "code",
   "execution_count": 134,
   "metadata": {},
   "outputs": [
    {
     "data": {
      "text/plain": [
       "['Shooting', 'Nori', 'Peti']"
      ]
     },
     "execution_count": 134,
     "metadata": {},
     "output_type": "execute_result"
    }
   ],
   "source": [
    "ut2"
   ]
  },
  {
   "cell_type": "code",
   "execution_count": null,
   "metadata": {},
   "outputs": [],
   "source": []
  },
  {
   "cell_type": "code",
   "execution_count": 117,
   "metadata": {},
   "outputs": [],
   "source": []
  },
  {
   "cell_type": "code",
   "execution_count": 119,
   "metadata": {},
   "outputs": [
    {
     "name": "stderr",
     "output_type": "stream",
     "text": [
      "C:\\Users\\kapronczaym\\Anaconda3\\lib\\site-packages\\ipykernel_launcher.py:1: FutureWarning: \n",
      "Passing list-likes to .loc or [] with any missing label will raise\n",
      "KeyError in the future, you can use .reindex() as an alternative.\n",
      "\n",
      "See the documentation here:\n",
      "https://pandas.pydata.org/pandas-docs/stable/indexing.html#deprecate-loc-reindex-listlike\n",
      "  \"\"\"Entry point for launching an IPython kernel.\n"
     ]
    },
    {
     "data": {
      "text/html": [
       "<div>\n",
       "<style scoped>\n",
       "    .dataframe tbody tr th:only-of-type {\n",
       "        vertical-align: middle;\n",
       "    }\n",
       "\n",
       "    .dataframe tbody tr th {\n",
       "        vertical-align: top;\n",
       "    }\n",
       "\n",
       "    .dataframe thead th {\n",
       "        text-align: right;\n",
       "    }\n",
       "</style>\n",
       "<table border=\"1\" class=\"dataframe\">\n",
       "  <thead>\n",
       "    <tr style=\"text-align: right;\">\n",
       "      <th></th>\n",
       "      <th>address</th>\n",
       "      <th>destination</th>\n",
       "      <th>mailto</th>\n",
       "    </tr>\n",
       "    <tr>\n",
       "      <th>name</th>\n",
       "      <th></th>\n",
       "      <th></th>\n",
       "      <th></th>\n",
       "    </tr>\n",
       "  </thead>\n",
       "  <tbody>\n",
       "    <tr>\n",
       "      <th>Shooting</th>\n",
       "      <td>NaN</td>\n",
       "      <td>NaN</td>\n",
       "      <td>NaN</td>\n",
       "    </tr>\n",
       "    <tr>\n",
       "      <th>Apci</th>\n",
       "      <td>Budapest, Szent István körút 14, 1137</td>\n",
       "      <td>Shooting</td>\n",
       "      <td>mor.kapronczay@gmail.com</td>\n",
       "    </tr>\n",
       "    <tr>\n",
       "      <th>Bius</th>\n",
       "      <td>1077 Budapest Wesselényi utca 58.</td>\n",
       "      <td>Shooting</td>\n",
       "      <td>mor.kapronczay@gmail.com</td>\n",
       "    </tr>\n",
       "    <tr>\n",
       "      <th>Loci</th>\n",
       "      <td>Lónyay u. 13 Budapest 1093</td>\n",
       "      <td>Shooting</td>\n",
       "      <td>mor.kapronczay@gmail.com</td>\n",
       "    </tr>\n",
       "  </tbody>\n",
       "</table>\n",
       "</div>"
      ],
      "text/plain": [
       "                                        address destination  \\\n",
       "name                                                          \n",
       "Shooting                                    NaN         NaN   \n",
       "Apci      Budapest, Szent István körút 14, 1137    Shooting   \n",
       "Bius          1077 Budapest Wesselényi utca 58.    Shooting   \n",
       "Loci                 Lónyay u. 13 Budapest 1093    Shooting   \n",
       "\n",
       "                            mailto  \n",
       "name                                \n",
       "Shooting                       NaN  \n",
       "Apci      mor.kapronczay@gmail.com  \n",
       "Bius      mor.kapronczay@gmail.com  \n",
       "Loci      mor.kapronczay@gmail.com  "
      ]
     },
     "execution_count": 119,
     "metadata": {},
     "output_type": "execute_result"
    }
   ],
   "source": [
    "tp.cast_members.loc[ut]"
   ]
  },
  {
   "cell_type": "code",
   "execution_count": null,
   "metadata": {},
   "outputs": [],
   "source": []
  },
  {
   "cell_type": "code",
   "execution_count": null,
   "metadata": {},
   "outputs": [],
   "source": []
  },
  {
   "cell_type": "code",
   "execution_count": null,
   "metadata": {},
   "outputs": [],
   "source": []
  }
 ],
 "metadata": {
  "kernelspec": {
   "display_name": "Python 3",
   "language": "python",
   "name": "python3"
  },
  "language_info": {
   "codemirror_mode": {
    "name": "ipython",
    "version": 3
   },
   "file_extension": ".py",
   "mimetype": "text/x-python",
   "name": "python",
   "nbconvert_exporter": "python",
   "pygments_lexer": "ipython3",
   "version": "3.7.0"
  }
 },
 "nbformat": 4,
 "nbformat_minor": 2
}
