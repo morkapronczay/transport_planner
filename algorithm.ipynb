{
 "cells": [
  {
   "cell_type": "code",
   "execution_count": 17,
   "metadata": {},
   "outputs": [],
   "source": [
    "import geopy\n",
    "from geopy.geocoders import Nominatim\n",
    "import requests\n",
    "import folium"
   ]
  },
  {
   "cell_type": "markdown",
   "metadata": {},
   "source": [
    "## INITIALIZE DATA"
   ]
  },
  {
   "cell_type": "code",
   "execution_count": 3,
   "metadata": {
    "collapsed": true
   },
   "outputs": [],
   "source": [
    "drivers = {'Laci': {'address': '1085 Budapest Horánszky utca 6.', 'kapacitas': 4},\n",
    "           'Feri': {'address': '1153 Budapest Dobó utca 18.', 'capacity': 6}}"
   ]
  },
  {
   "cell_type": "code",
   "execution_count": null,
   "metadata": {
    "collapsed": true
   },
   "outputs": [],
   "source": [
    "cast_members = {}"
   ]
  },
  {
   "cell_type": "code",
   "execution_count": 6,
   "metadata": {},
   "outputs": [],
   "source": [
    "geolocator = Nominatim(user_agent=\"Transport_planner\")"
   ]
  },
  {
   "cell_type": "code",
   "execution_count": 15,
   "metadata": {},
   "outputs": [
    {
     "name": "stdout",
     "output_type": "stream",
     "text": [
      "47.49236565 19.0677840526337\n"
     ]
    }
   ],
   "source": [
    "laciloc = geolocator.geocode(drivers['Laci']['address'])\n",
    "print(laciloc.latitude, laciloc.longitude)"
   ]
  },
  {
   "cell_type": "code",
   "execution_count": 12,
   "metadata": {},
   "outputs": [
    {
     "name": "stdout",
     "output_type": "stream",
     "text": [
      "47.5604898333333 19.1154243333333\n"
     ]
    }
   ],
   "source": [
    "feriloc = geolocator.geocode(drivers['Feri']['address'])\n",
    "print(feriloc.latitude, feriloc.longitude)"
   ]
  },
  {
   "cell_type": "markdown",
   "metadata": {},
   "source": [
    "## DIRECTIONS API"
   ]
  },
  {
   "cell_type": "code",
   "execution_count": 13,
   "metadata": {
    "collapsed": true
   },
   "outputs": [],
   "source": [
    "with open('gitignore/api_key.txt') as fh:\n",
    "    api_key = fh.read()"
   ]
  },
  {
   "cell_type": "code",
   "execution_count": 31,
   "metadata": {},
   "outputs": [
    {
     "data": {
      "text/plain": [
       "'https://api.openrouteservice.org/v2/directions/driving-car?api_key=5b3ce3597851110001cf6248934a0ac43b7847269eec224b84b6f488&start=19.06778,47.49236&end=19.11542,47.56048'"
      ]
     },
     "execution_count": 31,
     "metadata": {},
     "output_type": "execute_result"
    }
   ],
   "source": [
    "url = f\"https://api.openrouteservice.org/v2/directions/driving-car?api_key={api_key}&start={str(laciloc.longitude)[:8]},{str(laciloc.latitude)[:8]}&end={str(feriloc.longitude)[:8]},{str(feriloc.latitude)[:8]}\"\n",
    "url"
   ]
  },
  {
   "cell_type": "code",
   "execution_count": 65,
   "metadata": {
    "collapsed": true
   },
   "outputs": [],
   "source": [
    "def get_directions(loc_1, loc_2, api_key=api_key):\n",
    "    # get direction as a geojson\n",
    "    url = f\"https://api.openrouteservice.org/v2/directions/driving-car?api_key={api_key}&start={str(laciloc.longitude)},{str(laciloc.latitude)}&end={str(feriloc.longitude)},{str(feriloc.latitude)}\"\n",
    "    r = requests.get(url)\n",
    "    return r.json()\n",
    "\n",
    "def get_duration_from_geojson(geojson):\n",
    "    # return time of route plan in seconds\n",
    "    return geojson['features'][0]['properties']['segments'][0]['duration']"
   ]
  },
  {
   "cell_type": "code",
   "execution_count": 64,
   "metadata": {
    "collapsed": true
   },
   "outputs": [],
   "source": [
    "r = requests.get(url)"
   ]
  },
  {
   "cell_type": "code",
   "execution_count": 37,
   "metadata": {},
   "outputs": [],
   "source": [
    "geojson = r.json()"
   ]
  },
  {
   "cell_type": "code",
   "execution_count": 47,
   "metadata": {},
   "outputs": [
    {
     "data": {
      "text/plain": [
       "dict_keys(['type', 'features', 'bbox', 'metadata'])"
      ]
     },
     "execution_count": 47,
     "metadata": {},
     "output_type": "execute_result"
    }
   ],
   "source": [
    "geojson.keys()"
   ]
  },
  {
   "cell_type": "code",
   "execution_count": 61,
   "metadata": {},
   "outputs": [],
   "source": [
    "time_in_mins = geojson['features'][0]['properties']['segments'][0]['duration'] / 60"
   ]
  },
  {
   "cell_type": "code",
   "execution_count": 62,
   "metadata": {},
   "outputs": [
    {
     "data": {
      "text/plain": [
       "17.555"
      ]
     },
     "execution_count": 62,
     "metadata": {},
     "output_type": "execute_result"
    }
   ],
   "source": [
    "time_in_mins"
   ]
  },
  {
   "cell_type": "code",
   "execution_count": null,
   "metadata": {
    "collapsed": true
   },
   "outputs": [],
   "source": []
  },
  {
   "cell_type": "code",
   "execution_count": 43,
   "metadata": {},
   "outputs": [
    {
     "data": {
      "text/plain": [
       "<folium.features.GeoJson at 0x26f997d8748>"
      ]
     },
     "execution_count": 43,
     "metadata": {},
     "output_type": "execute_result"
    }
   ],
   "source": [
    "m = folium.Map(location=(feriloc.latitude, feriloc.longitude))\n",
    "\n",
    "folium.GeoJson(\n",
    "    geojson,\n",
    "    name='geojson'\n",
    ").add_to(m)"
   ]
  },
  {
   "cell_type": "code",
   "execution_count": 44,
   "metadata": {},
   "outputs": [
    {
     "data": {
      "text/html": [
       "<div style=\"width:100%;\"><div style=\"position:relative;width:100%;height:0;padding-bottom:60%;\"><iframe src=\"data:text/html;charset=utf-8;base64,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\" style=\"position:absolute;width:100%;height:100%;left:0;top:0;border:none !important;\" allowfullscreen webkitallowfullscreen mozallowfullscreen></iframe></div></div>"
      ],
      "text/plain": [
       "<folium.folium.Map at 0x26f997d8780>"
      ]
     },
     "execution_count": 44,
     "metadata": {},
     "output_type": "execute_result"
    }
   ],
   "source": [
    "m"
   ]
  }
 ],
 "metadata": {
  "kernelspec": {
   "display_name": "Python 3",
   "language": "python",
   "name": "python3"
  },
  "language_info": {
   "codemirror_mode": {
    "name": "ipython",
    "version": 3
   },
   "file_extension": ".py",
   "mimetype": "text/x-python",
   "name": "python",
   "nbconvert_exporter": "python",
   "pygments_lexer": "ipython3",
   "version": "3.6.3"
  }
 },
 "nbformat": 4,
 "nbformat_minor": 2
}
