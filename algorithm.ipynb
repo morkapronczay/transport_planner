{
 "cells": [
  {
   "cell_type": "code",
   "execution_count": null,
   "metadata": {},
   "outputs": [],
   "source": [
    "import geopy\n",
    "from geopy.geocoders import Nominatim\n",
    "import requests\n",
    "import folium\n",
    "import pandas as pd\n",
    "from time import sleep\n",
    "from copy import deepcopy\n",
    "from itertools import combinations\n",
    "\n",
    "pd.options.mode.chained_assignment = None"
   ]
  },
  {
   "cell_type": "markdown",
   "metadata": {},
   "source": [
    "## LOAD DATA"
   ]
  },
  {
   "cell_type": "code",
   "execution_count": null,
   "metadata": {},
   "outputs": [],
   "source": [
    "with open('cast_types.txt', 'r') as file:\n",
    "    cast_types = [f.strip('\\n') for f in file.readlines()]"
   ]
  },
  {
   "cell_type": "code",
   "execution_count": null,
   "metadata": {},
   "outputs": [],
   "source": [
    "data = {}\n",
    "for cast_ in cast_types:\n",
    "    data[cast_] = pd.read_csv(f'data/{cast_}.csv').set_index('name')"
   ]
  },
  {
   "cell_type": "markdown",
   "metadata": {},
   "source": [
    "## DIRECTIONS API"
   ]
  },
  {
   "cell_type": "code",
   "execution_count": null,
   "metadata": {},
   "outputs": [],
   "source": [
    "with open('gitignore/api_key.txt') as fh:\n",
    "    api_key = fh.read()"
   ]
  },
  {
   "cell_type": "code",
   "execution_count": null,
   "metadata": {},
   "outputs": [],
   "source": [
    "geolocator = Nominatim(user_agent=\"Transport_planner\")"
   ]
  },
  {
   "cell_type": "markdown",
   "metadata": {},
   "source": [
    "## CREATE OBJECT"
   ]
  },
  {
   "cell_type": "code",
   "execution_count": null,
   "metadata": {},
   "outputs": [],
   "source": [
    "class TransportPlanner(object):\n",
    "    \n",
    "    def __init__(self, supervisors, drivers, cast_members, destinations, geolocator=geolocator, api_key=api_key):\n",
    "        self.supervisors = supervisors\n",
    "        self.drivers = drivers\n",
    "        self.cast_members = cast_members\n",
    "        self.destinations = destinations\n",
    "        self.all_locs = [supervisors, drivers, cast_members, destinations]\n",
    "        self.geolocator = geolocator\n",
    "        self.api_key = api_key\n",
    "        self.capacities = drivers['capacity']\n",
    "        self.dest_counts = cast_members['destination'].value_counts()\n",
    "        with open('cast_types.txt', 'r') as file:\n",
    "            self.cast_types = [f.strip('\\n') for f in file.readlines()] \n",
    "        \n",
    "    def __str__(self):\n",
    "        return('This is a transport planner object.')\n",
    "    \n",
    "    \n",
    "    def get_locations(self):\n",
    "        self.locations = {}\n",
    "        for df in self.all_locs:\n",
    "            for ind, row in df.iterrows():\n",
    "                try:\n",
    "                    self.locations[ind] = self.geolocator.geocode(row['address'])\n",
    "                except:\n",
    "                    continue\n",
    "    \n",
    "    def get_coordinates(self):\n",
    "        self.coords = pd.DataFrame({k: (v.longitude, v.latitude) for k, v in self.locations.items()}).T\n",
    "    \n",
    "    def get_directions_locations(self, loc_1, loc_2):\n",
    "        # get direction as a geojson\n",
    "        url = f\"https://api.openrouteservice.org/v2/directions/driving-car?api_key={self.api_key}&start={str(loc_1.longitude)},{str(loc_1.latitude)}&end={str(loc_2.longitude)},{str(loc_2.latitude)}\"\n",
    "        r = requests.get(url)\n",
    "        return r.json()\n",
    "    \n",
    "    def get_directions_coords(self, coords_1, coords_2):\n",
    "        # get direction as a geojson\n",
    "        url = f\"https://api.openrouteservice.org/v2/directions/driving-car?api_key={self.api_key}&start={str(coords_1[0])},{str(coords_1[1])}&end={str(coords_2[0])},{str(coords_2[1])}\"\n",
    "        r = requests.get(url)\n",
    "        return r.json()\n",
    "    \n",
    "    def get_duration(self, loc_1, loc_2, loc=True):\n",
    "        # return time of route plan in seconds\n",
    "        if loc:\n",
    "            geojson = self.get_directions_locations(loc_1, loc_2)\n",
    "        else:\n",
    "            geojson = self.get_directions_coords(loc_1, loc_2)\n",
    "        return geojson, geojson['features'][0]['properties']['segments'][0]['duration']\n",
    "    \n",
    "    def get_distance_matrix(self):\n",
    "        dist_table = {}\n",
    "        geojsons = {}\n",
    "        counter = 0\n",
    "        for key, loc in self.locations.items():\n",
    "            dist_table[key] = {}\n",
    "            geojsons[key] = {}\n",
    "            for keyy, locc in self.locations.items():\n",
    "                \n",
    "                # for rate limit\n",
    "                counter += 1\n",
    "                if counter > 39:\n",
    "                    sleep(60)\n",
    "                    counter = 0\n",
    "                else:\n",
    "                    pass\n",
    "                \n",
    "                # get durations\n",
    "                if key == keyy:\n",
    "                    dur = 0\n",
    "                    geojson = {'features': None}\n",
    "                else:\n",
    "                    geojson, dur = self.get_duration(loc, locc, True)\n",
    "                geojsons[key][keyy] = geojson\n",
    "                dist_table[key][keyy] = dur\n",
    "                \n",
    "        self.dist_table = dist_table\n",
    "        self.geojsons = geojsons\n",
    "        return None\n",
    "    \n",
    "    def get_next_cast_member(self, start, relevant_cast_names):\n",
    "        relevant_dists = {k: v for k, v in self.dist_table[start].items() if k in relevant_cast_names}\n",
    "        return min(relevant_dists, key=relevant_dists.get)\n",
    "    \n",
    "    def get_optimal_route(self, dest, capacity, cast_done):\n",
    "        driving_order = [dest]\n",
    "        cast_solved = []\n",
    "        start = dest\n",
    "        relevant_cast_names = self.cast_members[tp.cast_members['destination'] == dest].index\n",
    "        relevant_cast_names = [f for f in relevant_cast_names if not f in cast_done]\n",
    "        while len(driving_order) < capacity + 1:\n",
    "            if len(relevant_cast_names) == 0:\n",
    "                return driving_order\n",
    "            next_cast = self.get_next_cast_member(start, relevant_cast_names)\n",
    "            driving_order.append(next_cast)\n",
    "            relevant_cast_names = [f for f in relevant_cast_names if not f in driving_order]\n",
    "            start = next_cast\n",
    "        return driving_order\n",
    "    \n",
    "    def allocate_driver(self, driving_order, cap, drivers_done):\n",
    "        relevant_drivers = [f for f in self.capacities.index if self.capacities[f] == cap]\n",
    "        relevant_drivers = [f for f in relevant_drivers if not f in drivers_done]\n",
    "        driver = self.get_next_cast_member(driving_order[-1], relevant_drivers)\n",
    "        ret = driving_order + [driver]\n",
    "        return ret\n",
    "    \n",
    "    def optimize_destinations(self):\n",
    "        dest_cast_counts = self.cast_members['destination'].value_counts()\n",
    "        dest_order = dest_cast_counts.sort_values().index\n",
    "        drivers = {}\n",
    "        cast_done = []\n",
    "        drivers_done = []\n",
    "        for dest in dest_order:\n",
    "            if dest_cast_counts[dest] in self.capacities.tolist():\n",
    "                driving_order = self.get_optimal_route(dest, dest_cast_counts[dest], cast_done)\n",
    "                final_driving_order = self.allocate_driver(driving_order, dest_cast_counts[dest], drivers_done)\n",
    "                cast_done += driving_order[1:]\n",
    "                drivers_done += [final_driving_order[-1]]\n",
    "                drivers[final_driving_order[-1]] = final_driving_order[::-1]\n",
    "            elif dest_cast_counts[dest] < tp.capacities.min():\n",
    "                driving_order = self.get_optimal_route(dest, tp.capacities.min(), cast_done)\n",
    "                final_driving_order = self.allocate_driver(driving_order, tp.capacities.min(), drivers_done)\n",
    "                cast_done += driving_order[1:]\n",
    "                drivers_done += [final_driving_order[-1]]\n",
    "                drivers[final_driving_order[-1]] = final_driving_order[::-1]\n",
    "            else:\n",
    "                STOP = False\n",
    "                driver_capacities = self.drivers.drop(drivers_done)['capacity'].tolist()\n",
    "                sorted_driver_capacities = sorted(driver_capacities)[::-1]\n",
    "                optimal_capacities = None\n",
    "                for i in range(len(driver_capacities)):\n",
    "                    for comb in combinations(driver_capacities, i):\n",
    "                        if sum(comb) == dest_cast_counts[dest]:\n",
    "                            STOP = True\n",
    "                            optimal_capacities = comb\n",
    "                            break\n",
    "                    if STOP:\n",
    "                        break\n",
    "                if not optimal_capacities:\n",
    "                    for i in range(2, len(driver_capacities)):\n",
    "                        for comb in combinations(driver_capacities, i):\n",
    "                            if sum(comb) > dest_cast_counts[dest]:\n",
    "                                STOP = True\n",
    "                                optimal_capacities = comb\n",
    "                                break\n",
    "                for elem in comb:\n",
    "                    driving_order = self.get_optimal_route(dest, elem, cast_done)\n",
    "                    final_driving_order = self.allocate_driver(driving_order, elem, drivers_done)\n",
    "                    cast_done += driving_order[1:]\n",
    "                    drivers_done += [final_driving_order[-1]]\n",
    "                    drivers[final_driving_order[-1]] = final_driving_order[::-1] \n",
    "\n",
    "        assert set(cast_done) == set(self.cast_members.index), 'Not all cast members have a ride!!!'\n",
    "        self.driver_routes = drivers"
   ]
  },
  {
   "cell_type": "code",
   "execution_count": null,
   "metadata": {},
   "outputs": [],
   "source": [
    "tp = TransportPlanner(*[data[f] for f in cast_types])"
   ]
  },
  {
   "cell_type": "code",
   "execution_count": null,
   "metadata": {},
   "outputs": [],
   "source": [
    "tp.get_locations()"
   ]
  },
  {
   "cell_type": "code",
   "execution_count": null,
   "metadata": {},
   "outputs": [],
   "source": [
    "tp.get_coordinates()"
   ]
  },
  {
   "cell_type": "code",
   "execution_count": null,
   "metadata": {},
   "outputs": [],
   "source": [
    "tp.get_distance_matrix()"
   ]
  },
  {
   "cell_type": "code",
   "execution_count": null,
   "metadata": {},
   "outputs": [],
   "source": [
    "tp.optimize_destinations()"
   ]
  },
  {
   "cell_type": "code",
   "execution_count": null,
   "metadata": {},
   "outputs": [],
   "source": []
  },
  {
   "cell_type": "code",
   "execution_count": null,
   "metadata": {},
   "outputs": [],
   "source": []
  },
  {
   "cell_type": "code",
   "execution_count": null,
   "metadata": {},
   "outputs": [],
   "source": []
  },
  {
   "cell_type": "code",
   "execution_count": null,
   "metadata": {},
   "outputs": [],
   "source": []
  },
  {
   "cell_type": "code",
   "execution_count": null,
   "metadata": {},
   "outputs": [],
   "source": []
  },
  {
   "cell_type": "code",
   "execution_count": null,
   "metadata": {},
   "outputs": [],
   "source": []
  },
  {
   "cell_type": "code",
   "execution_count": null,
   "metadata": {},
   "outputs": [],
   "source": []
  },
  {
   "cell_type": "code",
   "execution_count": null,
   "metadata": {},
   "outputs": [],
   "source": []
  },
  {
   "cell_type": "code",
   "execution_count": null,
   "metadata": {},
   "outputs": [],
   "source": []
  },
  {
   "cell_type": "code",
   "execution_count": null,
   "metadata": {},
   "outputs": [],
   "source": [
    "## map creation method - maps will be attached and can be opened in browser!!!\n",
    "tp.itineraries = {}\n",
    "for driver in tp.driver_routes.keys():\n",
    "    tp.itineraries[driver] = folium.Map(location=(pd.np.median(tp.coords[1]), pd.np.median(tp.coords[0])), zoom_start=12)\n",
    "    fg = folium.FeatureGroup(name='Stops')\n",
    "    for i, stop in enumerate(tp.driver_routes[driver]):\n",
    "        if not i == len(tp.driver_routes[driver])-1:\n",
    "            folium.GeoJson(tp.geojsons[tp.driver_routes[driver][i]][tp.driver_routes[driver][i+1]]).add_to(tp.itineraries[driver])\n",
    "            if i == 0:\n",
    "                fg.add_child(folium.Marker(location = [tp.coords.loc[stop, 1], tp.coords.loc[stop, 0]],\n",
    "                                           popup='START', \n",
    "                                           icon=folium.Icon(color='lightblue')))\n",
    "            else:\n",
    "                fg.add_child(folium.Marker(location = [tp.coords.loc[stop, 1], tp.coords.loc[stop, 0]],\n",
    "                                           popup=f\"STOP {str(i)}\",\n",
    "                                           icon=folium.Icon(color='blue')))\n",
    "        else:\n",
    "            fg.add_child(folium.Marker(location = [tp.coords.loc[stop, 1], tp.coords.loc[stop, 0]],\n",
    "                                           popup=\"FINAL DESTINATION\",\n",
    "                                           icon=folium.Icon(color='darkblue')))\n",
    "    tp.itineraries[driver].add_child(fg)\n",
    "        \n",
    "        "
   ]
  },
  {
   "cell_type": "code",
   "execution_count": null,
   "metadata": {},
   "outputs": [],
   "source": [
    "help(folium.Icon)"
   ]
  },
  {
   "cell_type": "code",
   "execution_count": null,
   "metadata": {},
   "outputs": [],
   "source": [
    "tp.driver_routes"
   ]
  },
  {
   "cell_type": "code",
   "execution_count": null,
   "metadata": {},
   "outputs": [],
   "source": [
    "tp.itineraries['Feri']"
   ]
  },
  {
   "cell_type": "code",
   "execution_count": null,
   "metadata": {},
   "outputs": [],
   "source": [
    "m = folium.Map(location = (pd.np.median(tp.coords[1]), pd.np.median(tp.coords[0])), zoom_start=12)"
   ]
  },
  {
   "cell_type": "code",
   "execution_count": null,
   "metadata": {},
   "outputs": [],
   "source": [
    "folium.GeoJson(tp.geojsons['Dani']['Boci'], name='1').add_to(m)\n",
    "folium.GeoJson(tp.geojsons['Boci']['Coci'], name='2').add_to(m)\n",
    "folium.GeoJson(tp.geojsons['Coci']['Zoli'], name='3').add_to(m)\n",
    "folium.GeoJson(tp.geojsons['Zoli']['Dressing'], name='4').add_to(m)"
   ]
  },
  {
   "cell_type": "code",
   "execution_count": null,
   "metadata": {},
   "outputs": [],
   "source": []
  },
  {
   "cell_type": "code",
   "execution_count": null,
   "metadata": {},
   "outputs": [],
   "source": [
    "m"
   ]
  },
  {
   "cell_type": "code",
   "execution_count": null,
   "metadata": {},
   "outputs": [],
   "source": []
  },
  {
   "cell_type": "code",
   "execution_count": null,
   "metadata": {},
   "outputs": [],
   "source": []
  },
  {
   "cell_type": "code",
   "execution_count": null,
   "metadata": {},
   "outputs": [],
   "source": [
    "tp.geojsons['Dani']['Boci']"
   ]
  },
  {
   "cell_type": "code",
   "execution_count": null,
   "metadata": {},
   "outputs": [],
   "source": []
  },
  {
   "cell_type": "code",
   "execution_count": null,
   "metadata": {},
   "outputs": [],
   "source": []
  },
  {
   "cell_type": "code",
   "execution_count": null,
   "metadata": {},
   "outputs": [],
   "source": []
  },
  {
   "cell_type": "code",
   "execution_count": null,
   "metadata": {},
   "outputs": [],
   "source": []
  },
  {
   "cell_type": "code",
   "execution_count": null,
   "metadata": {},
   "outputs": [],
   "source": []
  },
  {
   "cell_type": "code",
   "execution_count": null,
   "metadata": {},
   "outputs": [],
   "source": []
  },
  {
   "cell_type": "code",
   "execution_count": null,
   "metadata": {},
   "outputs": [],
   "source": []
  },
  {
   "cell_type": "code",
   "execution_count": null,
   "metadata": {},
   "outputs": [],
   "source": []
  },
  {
   "cell_type": "code",
   "execution_count": null,
   "metadata": {},
   "outputs": [],
   "source": []
  },
  {
   "cell_type": "code",
   "execution_count": null,
   "metadata": {},
   "outputs": [],
   "source": [
    "dest = tp.destinations.index[0]"
   ]
  },
  {
   "cell_type": "code",
   "execution_count": null,
   "metadata": {},
   "outputs": [],
   "source": [
    "def optimize_destination(dest):\n",
    "    cast_done = []\n",
    "    drivers = {}\n",
    "\n",
    "def allocate_driver(driving_order, cap, drivers_done):\n",
    "    relevant_drivers = [f for f in tp.capacities.index if tp.capacities[f] == cap]\n",
    "    relevant_drivers = [f for f in relevant_drivers if not f in drivers_done]\n",
    "    driver = get_next_cast_member(driving_order[-1], relevant_drivers)\n",
    "    ret = driving_order + [driver]\n",
    "    return ret\n",
    "\n",
    "def get_optimal_route(dest, capacity, cast_done):\n",
    "    driving_order = [dest]\n",
    "    cast_solved = []\n",
    "    start = dest\n",
    "    relevant_cast_names = tp.cast_members[tp.cast_members['destination'] == dest].index\n",
    "    relevant_cast_names = [f for f in relevant_cast_names if not f in cast_done]\n",
    "    while len(driving_order) < capacity + 1:\n",
    "        if len(relevant_cast_names) == 0:\n",
    "            return driving_order\n",
    "        next_cast = get_next_cast_member(start, relevant_cast_names)\n",
    "        driving_order.append(next_cast)\n",
    "        relevant_cast_names = [f for f in relevant_cast_names if not f in driving_order]\n",
    "        start = next_cast\n",
    "    return driving_order\n",
    "    \n",
    "def get_next_cast_member(start, relevant_cast_names):\n",
    "    relevant_dists = {k: v for k, v in tp.dist_table[start].items() if k in relevant_cast_names}\n",
    "    return min(relevant_dists, key=relevant_dists.get)"
   ]
  },
  {
   "cell_type": "code",
   "execution_count": null,
   "metadata": {},
   "outputs": [],
   "source": [
    "dest_cast_counts = tp.cast_members['destination'].value_counts()\n",
    "dest_order = dest_cast_counts.sort_values().index"
   ]
  },
  {
   "cell_type": "code",
   "execution_count": null,
   "metadata": {},
   "outputs": [],
   "source": [
    "dest = dest_order[0]"
   ]
  },
  {
   "cell_type": "code",
   "execution_count": null,
   "metadata": {},
   "outputs": [],
   "source": [
    "def optimize_destination():\n",
    "    dest_cast_counts = tp.cast_members['destination'].value_counts()\n",
    "    dest_order = dest_cast_counts.sort_values().index\n",
    "    drivers = {}\n",
    "    cast_done = []\n",
    "    drivers_done = []\n",
    "    for dest in dest_order:\n",
    "        if dest_cast_counts[dest] in tp.capacities.tolist():\n",
    "            driving_order = get_optimal_route(dest, dest_cast_counts[dest], cast_done)\n",
    "            final_driving_order = allocate_driver(driving_order, dest_cast_counts[dest], drivers_done)\n",
    "            cast_done += driving_order[1:]\n",
    "            drivers_done += [final_driving_order[-1]]\n",
    "            drivers[final_driving_order[-1]] = final_driving_order[::-1]\n",
    "        elif dest_cast_counts[dest] < tp.capacities.min():\n",
    "            driving_order = get_optimal_route(dest, tp.capacities.min(), cast_done)\n",
    "            final_driving_order = allocate_driver(driving_order, tp.capacities.min(), drivers_done)\n",
    "            cast_done += driving_order[1:]\n",
    "            drivers_done += [final_driving_order[-1]]\n",
    "            drivers[final_driving_order[-1]] = final_driving_order[::-1]\n",
    "        else:\n",
    "            STOP = False\n",
    "            driver_capacities = tp.drivers.drop(drivers_done)['capacity'].tolist()\n",
    "            sorted_driver_capacities = sorted(driver_capacities)[::-1]\n",
    "            optimal_capacities = None\n",
    "            for i in range(len(driver_capacities)):\n",
    "                for comb in combinations(driver_capacities, i):\n",
    "                    if sum(comb) == dest_cast_counts[dest]:\n",
    "                        STOP = True\n",
    "                        optimal_capacities = comb\n",
    "                        break\n",
    "                if STOP:\n",
    "                    break\n",
    "            if not optimal_capacities:\n",
    "                for i in range(2, len(driver_capacities)):\n",
    "                    for comb in combinations(driver_capacities, i):\n",
    "                        if sum(comb) > dest_cast_counts[dest]:\n",
    "                            STOP = True\n",
    "                            optimal_capacities = comb\n",
    "                            break\n",
    "            for elem in comb:\n",
    "                driving_order = get_optimal_route(dest, elem, cast_done)\n",
    "                final_driving_order = allocate_driver(driving_order, elem, drivers_done)\n",
    "                cast_done += driving_order[1:]\n",
    "                drivers_done += [final_driving_order[-1]]\n",
    "                drivers[final_driving_order[-1]] = final_driving_order[::-1] \n",
    "\n",
    "    assert set(cast_done) == set(tp.cast_members.index), 'Not all cast members have a ride!!!'\n"
   ]
  },
  {
   "cell_type": "code",
   "execution_count": null,
   "metadata": {},
   "outputs": [],
   "source": [
    "drivers"
   ]
  },
  {
   "cell_type": "code",
   "execution_count": null,
   "metadata": {},
   "outputs": [],
   "source": [
    "tp.cast_members"
   ]
  },
  {
   "cell_type": "code",
   "execution_count": null,
   "metadata": {},
   "outputs": [],
   "source": [
    "driving_order"
   ]
  },
  {
   "cell_type": "code",
   "execution_count": null,
   "metadata": {},
   "outputs": [],
   "source": [
    "drivers_done"
   ]
  },
  {
   "cell_type": "code",
   "execution_count": null,
   "metadata": {},
   "outputs": [],
   "source": [
    "drivers"
   ]
  },
  {
   "cell_type": "code",
   "execution_count": null,
   "metadata": {},
   "outputs": [],
   "source": [
    "tp.cast_members"
   ]
  },
  {
   "cell_type": "code",
   "execution_count": null,
   "metadata": {},
   "outputs": [],
   "source": [
    "drivers"
   ]
  },
  {
   "cell_type": "code",
   "execution_count": null,
   "metadata": {},
   "outputs": [],
   "source": [
    "sorted(tp.drivers.drop(drivers_done)['capacity'].tolist())[::-1]"
   ]
  },
  {
   "cell_type": "code",
   "execution_count": null,
   "metadata": {},
   "outputs": [],
   "source": [
    "drivers"
   ]
  },
  {
   "cell_type": "code",
   "execution_count": null,
   "metadata": {},
   "outputs": [],
   "source": [
    "tp.drivers.drop(drivers_done)"
   ]
  },
  {
   "cell_type": "code",
   "execution_count": null,
   "metadata": {},
   "outputs": [],
   "source": [
    "for comb in combinations(tp.drivers.drop(drivers_done)['capacity'].tolist(), 2):\n",
    "    print(comb[0] + comb[1])"
   ]
  },
  {
   "cell_type": "code",
   "execution_count": null,
   "metadata": {},
   "outputs": [],
   "source": []
  },
  {
   "cell_type": "code",
   "execution_count": null,
   "metadata": {},
   "outputs": [],
   "source": [
    "final_driving_order"
   ]
  },
  {
   "cell_type": "code",
   "execution_count": null,
   "metadata": {},
   "outputs": [],
   "source": [
    "cast_done"
   ]
  },
  {
   "cell_type": "code",
   "execution_count": null,
   "metadata": {},
   "outputs": [],
   "source": [
    "drivers_done"
   ]
  },
  {
   "cell_type": "code",
   "execution_count": null,
   "metadata": {},
   "outputs": [],
   "source": []
  },
  {
   "cell_type": "code",
   "execution_count": null,
   "metadata": {},
   "outputs": [],
   "source": []
  },
  {
   "cell_type": "code",
   "execution_count": null,
   "metadata": {},
   "outputs": [],
   "source": [
    "print(tp.destinations.loc[final_driving_order[0], 'address'])\n",
    "for i in driving_order[1:]:\n",
    "    print(tp.cast_members.loc[i, 'address'])\n",
    "print(tp.drivers.loc[final_driving_order[-1], 'address'])"
   ]
  },
  {
   "cell_type": "code",
   "execution_count": null,
   "metadata": {},
   "outputs": [],
   "source": []
  },
  {
   "cell_type": "code",
   "execution_count": null,
   "metadata": {},
   "outputs": [],
   "source": [
    "relevant_drivers = [f for f in tp.capacities.index if tp.capacities[f] == len(driving_order)-1]"
   ]
  },
  {
   "cell_type": "code",
   "execution_count": null,
   "metadata": {},
   "outputs": [],
   "source": [
    "relevant_drivers"
   ]
  },
  {
   "cell_type": "code",
   "execution_count": null,
   "metadata": {},
   "outputs": [],
   "source": [
    "tp.cast_members.loc[ut]"
   ]
  },
  {
   "cell_type": "code",
   "execution_count": null,
   "metadata": {},
   "outputs": [],
   "source": []
  },
  {
   "cell_type": "code",
   "execution_count": null,
   "metadata": {},
   "outputs": [],
   "source": []
  },
  {
   "cell_type": "code",
   "execution_count": null,
   "metadata": {},
   "outputs": [],
   "source": []
  }
 ],
 "metadata": {
  "kernelspec": {
   "display_name": "Python 3",
   "language": "python",
   "name": "python3"
  },
  "language_info": {
   "codemirror_mode": {
    "name": "ipython",
    "version": 3
   },
   "file_extension": ".py",
   "mimetype": "text/x-python",
   "name": "python",
   "nbconvert_exporter": "python",
   "pygments_lexer": "ipython3",
   "version": "3.7.0"
  }
 },
 "nbformat": 4,
 "nbformat_minor": 2
}
