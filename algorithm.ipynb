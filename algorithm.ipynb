{
 "cells": [
  {
   "cell_type": "code",
   "execution_count": 40,
   "metadata": {
    "collapsed": true
   },
   "outputs": [],
   "source": [
    "import geopy\n",
    "from geopy.geocoders import Nominatim\n",
    "import requests\n",
    "import folium\n",
    "import itertools\n",
    "import pandas as pd\n",
    "import networkx as nx"
   ]
  },
  {
   "cell_type": "markdown",
   "metadata": {},
   "source": [
    "## INITIALIZE DATA"
   ]
  },
  {
   "cell_type": "code",
   "execution_count": 13,
   "metadata": {},
   "outputs": [],
   "source": [
    "cast = {'drivers': {'Laci': {'address': '1085 Budapest Horánszky utca 6.', 'capacity': 2},\n",
    "                    'Feri': {'address': '1153 Budapest Dobó utca 18.', 'capacity': 2}\n",
    "                   },\n",
    "        'cast_members': {'Bius': {'address': '1077 Budapest Wesselényi utca 58.'},\n",
    "                         'Zoli': {'address': '1072 Budapest Akácfa utca 4.'},\n",
    "                         'Peti': {'address': '1155 Budapest Perczel Mór utca 13.'},\n",
    "                         'Nori': {'address': '1142 Budapest Szőnyi út 2.'}\n",
    "                        },\n",
    "        'destination': {'Shooting': {'address': '1021 Budapest Budakeszi út 51'}}\n",
    "       }"
   ]
  },
  {
   "cell_type": "code",
   "execution_count": 4,
   "metadata": {
    "collapsed": true
   },
   "outputs": [],
   "source": [
    "geolocator = Nominatim(user_agent=\"Transport_planner\")"
   ]
  },
  {
   "cell_type": "code",
   "execution_count": 5,
   "metadata": {},
   "outputs": [],
   "source": [
    "def geocode_address(address, geolocator=geolocator):\n",
    "    return geolocator.geocode(address)"
   ]
  },
  {
   "cell_type": "code",
   "execution_count": 6,
   "metadata": {},
   "outputs": [
    {
     "name": "stdout",
     "output_type": "stream",
     "text": [
      "47.49236565 19.0677840526337\n"
     ]
    }
   ],
   "source": [
    "laciloc = geolocator.geocode(drivers['Laci']['address'])\n",
    "print(laciloc.latitude, laciloc.longitude)"
   ]
  },
  {
   "cell_type": "code",
   "execution_count": 7,
   "metadata": {},
   "outputs": [
    {
     "name": "stdout",
     "output_type": "stream",
     "text": [
      "47.5604898333333 19.1154243333333\n"
     ]
    }
   ],
   "source": [
    "feriloc = geolocator.geocode(drivers['Feri']['address'])\n",
    "print(feriloc.latitude, feriloc.longitude)"
   ]
  },
  {
   "cell_type": "markdown",
   "metadata": {},
   "source": [
    "## DIRECTIONS API"
   ]
  },
  {
   "cell_type": "code",
   "execution_count": 8,
   "metadata": {
    "collapsed": true
   },
   "outputs": [],
   "source": [
    "with open('gitignore/api_key.txt') as fh:\n",
    "    api_key = fh.read()"
   ]
  },
  {
   "cell_type": "code",
   "execution_count": 9,
   "metadata": {},
   "outputs": [
    {
     "data": {
      "text/plain": [
       "'https://api.openrouteservice.org/v2/directions/driving-car?api_key=5b3ce3597851110001cf6248934a0ac43b7847269eec224b84b6f488&start=19.06778,47.49236&end=19.11542,47.56048'"
      ]
     },
     "execution_count": 9,
     "metadata": {},
     "output_type": "execute_result"
    }
   ],
   "source": [
    "url = f\"https://api.openrouteservice.org/v2/directions/driving-car?api_key={api_key}&start={str(laciloc.longitude)[:8]},{str(laciloc.latitude)[:8]}&end={str(feriloc.longitude)[:8]},{str(feriloc.latitude)[:8]}\"\n",
    "url"
   ]
  },
  {
   "cell_type": "code",
   "execution_count": 21,
   "metadata": {
    "collapsed": true
   },
   "outputs": [],
   "source": [
    "def get_duration(loc_1, loc_2, api_key=api_key):\n",
    "    # return time of route plan in seconds\n",
    "    geojson = get_directions(loc_1, loc_2, api_key=api_key)\n",
    "    return geojson['features'][0]['properties']['segments'][0]['duration']\n",
    "\n",
    "def get_directions(loc_1, loc_2, api_key=api_key):\n",
    "    # get direction as a geojson\n",
    "    url = f\"https://api.openrouteservice.org/v2/directions/driving-car?api_key={api_key}&start={str(loc_1.longitude)},{str(loc_1.latitude)}&end={str(loc_2.longitude)},{str(loc_2.latitude)}\"\n",
    "    r = requests.get(url)\n",
    "    return r.json()"
   ]
  },
  {
   "cell_type": "code",
   "execution_count": 22,
   "metadata": {},
   "outputs": [],
   "source": [
    "locations = {}\n",
    "for k, v in cast.items():\n",
    "    for key, value in v.items():\n",
    "        locations[f'{k}_{key}'] = geocode_address(value['address'])"
   ]
  },
  {
   "cell_type": "code",
   "execution_count": 35,
   "metadata": {},
   "outputs": [],
   "source": [
    "relations = [element for element in itertools.product(*[locations.keys(), locations.keys()]) if (\n",
    "    (element[0] != element[1]) &\n",
    "    (not element[0].startswith('drivers') & element[1].startswith('drivers')))]\n"
   ]
  },
  {
   "cell_type": "code",
   "execution_count": 122,
   "metadata": {},
   "outputs": [
    {
     "data": {
      "text/html": [
       "<div>\n",
       "<style scoped>\n",
       "    .dataframe tbody tr th:only-of-type {\n",
       "        vertical-align: middle;\n",
       "    }\n",
       "\n",
       "    .dataframe tbody tr th {\n",
       "        vertical-align: top;\n",
       "    }\n",
       "\n",
       "    .dataframe thead th {\n",
       "        text-align: right;\n",
       "    }\n",
       "</style>\n",
       "<table border=\"1\" class=\"dataframe\">\n",
       "  <thead>\n",
       "    <tr style=\"text-align: right;\">\n",
       "      <th></th>\n",
       "      <th>start</th>\n",
       "      <th>end</th>\n",
       "      <th>dist</th>\n",
       "    </tr>\n",
       "  </thead>\n",
       "  <tbody>\n",
       "    <tr>\n",
       "      <th>0</th>\n",
       "      <td>drivers_Laci</td>\n",
       "      <td>cast_members_Bius</td>\n",
       "      <td>237.9</td>\n",
       "    </tr>\n",
       "    <tr>\n",
       "      <th>1</th>\n",
       "      <td>drivers_Laci</td>\n",
       "      <td>cast_members_Zoli</td>\n",
       "      <td>132.0</td>\n",
       "    </tr>\n",
       "    <tr>\n",
       "      <th>2</th>\n",
       "      <td>drivers_Laci</td>\n",
       "      <td>cast_members_Peti</td>\n",
       "      <td>840.4</td>\n",
       "    </tr>\n",
       "    <tr>\n",
       "      <th>3</th>\n",
       "      <td>drivers_Laci</td>\n",
       "      <td>cast_members_Nori</td>\n",
       "      <td>837.9</td>\n",
       "    </tr>\n",
       "    <tr>\n",
       "      <th>4</th>\n",
       "      <td>drivers_Laci</td>\n",
       "      <td>destination_Shooting</td>\n",
       "      <td>1197.4</td>\n",
       "    </tr>\n",
       "  </tbody>\n",
       "</table>\n",
       "</div>"
      ],
      "text/plain": [
       "          start                   end    dist\n",
       "0  drivers_Laci     cast_members_Bius   237.9\n",
       "1  drivers_Laci     cast_members_Zoli   132.0\n",
       "2  drivers_Laci     cast_members_Peti   840.4\n",
       "3  drivers_Laci     cast_members_Nori   837.9\n",
       "4  drivers_Laci  destination_Shooting  1197.4"
      ]
     },
     "execution_count": 122,
     "metadata": {},
     "output_type": "execute_result"
    }
   ],
   "source": [
    "edgelist[edgelist['start'] == 'drivers_Laci']"
   ]
  },
  {
   "cell_type": "markdown",
   "metadata": {},
   "source": [
    "## CREATE GRAPH"
   ]
  },
  {
   "cell_type": "code",
   "execution_count": 37,
   "metadata": {},
   "outputs": [],
   "source": [
    "graph_edges = []\n",
    "for first, second in relations:\n",
    "    if not (second, first) in graph_edges:\n",
    "        graph_edges.append((first, second))"
   ]
  },
  {
   "cell_type": "code",
   "execution_count": 41,
   "metadata": {},
   "outputs": [],
   "source": [
    "edgelist = pd.DataFrame(graph_edges, columns = ['start', 'end'])"
   ]
  },
  {
   "cell_type": "code",
   "execution_count": 46,
   "metadata": {},
   "outputs": [],
   "source": [
    "def get_distance(row):\n",
    "    return get_duration(locations[row['start']], locations[row['end']])"
   ]
  },
  {
   "cell_type": "code",
   "execution_count": 48,
   "metadata": {
    "scrolled": true
   },
   "outputs": [],
   "source": [
    "edgelist['dist'] = edgelist.apply(get_distance, axis = 1)"
   ]
  },
  {
   "cell_type": "code",
   "execution_count": 54,
   "metadata": {},
   "outputs": [],
   "source": [
    "vertices = list(set(list(edgelist['start'].unique()) + list(edgelist['end'].unique())))"
   ]
  },
  {
   "cell_type": "code",
   "execution_count": 62,
   "metadata": {},
   "outputs": [],
   "source": [
    "vertices = {i: {'name': vertices[i]} for i in range(len(vertices))}"
   ]
  },
  {
   "cell_type": "code",
   "execution_count": 70,
   "metadata": {
    "collapsed": true
   },
   "outputs": [],
   "source": [
    "vertex_indices = {v['name']: k for k, v in vertices.items()}"
   ]
  },
  {
   "cell_type": "code",
   "execution_count": 100,
   "metadata": {
    "collapsed": true
   },
   "outputs": [],
   "source": [
    "edges = [(vertex_indices[row['start']], vertex_indices[row['end']], row['dist']) for i, row in edgelist.iterrows()]"
   ]
  },
  {
   "cell_type": "code",
   "execution_count": 113,
   "metadata": {},
   "outputs": [],
   "source": [
    "G = nx.Graph()"
   ]
  },
  {
   "cell_type": "code",
   "execution_count": 115,
   "metadata": {},
   "outputs": [],
   "source": [
    "for k, v in vertex_indices.items():\n",
    "    G.add_nodes_from([v], name=k)"
   ]
  },
  {
   "cell_type": "code",
   "execution_count": 106,
   "metadata": {},
   "outputs": [],
   "source": [
    "G.add_weighted_edges_from(edges)"
   ]
  },
  {
   "cell_type": "code",
   "execution_count": 119,
   "metadata": {},
   "outputs": [
    {
     "name": "stdout",
     "output_type": "stream",
     "text": [
      "\n"
     ]
    }
   ],
   "source": []
  },
  {
   "cell_type": "code",
   "execution_count": null,
   "metadata": {
    "collapsed": true
   },
   "outputs": [],
   "source": []
  },
  {
   "cell_type": "code",
   "execution_count": null,
   "metadata": {},
   "outputs": [],
   "source": []
  },
  {
   "cell_type": "code",
   "execution_count": null,
   "metadata": {
    "collapsed": true
   },
   "outputs": [],
   "source": []
  },
  {
   "cell_type": "code",
   "execution_count": null,
   "metadata": {},
   "outputs": [],
   "source": []
  },
  {
   "cell_type": "code",
   "execution_count": null,
   "metadata": {
    "collapsed": true
   },
   "outputs": [],
   "source": []
  },
  {
   "cell_type": "code",
   "execution_count": null,
   "metadata": {},
   "outputs": [],
   "source": [
    "m = folium.Map(location=(feriloc.latitude, feriloc.longitude))\n",
    "\n",
    "folium.GeoJson(\n",
    "    geojson,\n",
    "    name='geojson'\n",
    ").add_to(m)"
   ]
  },
  {
   "cell_type": "code",
   "execution_count": null,
   "metadata": {},
   "outputs": [],
   "source": [
    "m"
   ]
  }
 ],
 "metadata": {
  "kernelspec": {
   "display_name": "Python 3",
   "language": "python",
   "name": "python3"
  },
  "language_info": {
   "codemirror_mode": {
    "name": "ipython",
    "version": 3
   },
   "file_extension": ".py",
   "mimetype": "text/x-python",
   "name": "python",
   "nbconvert_exporter": "python",
   "pygments_lexer": "ipython3",
   "version": "3.6.3"
  }
 },
 "nbformat": 4,
 "nbformat_minor": 2
}
