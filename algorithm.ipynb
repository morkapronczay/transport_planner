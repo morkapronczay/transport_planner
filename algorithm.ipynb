{
 "cells": [
  {
   "cell_type": "code",
   "execution_count": 1,
   "metadata": {},
   "outputs": [],
   "source": [
    "import geopy\n",
    "from geopy.geocoders import Nominatim\n",
    "import requests\n",
    "import folium\n",
    "import pandas as pd\n",
    "from time import sleep\n",
    "from datetime import date, datetime, time, timedelta\n",
    "from copy import deepcopy\n",
    "from itertools import combinations\n",
    "\n",
    "pd.options.mode.chained_assignment = None"
   ]
  },
  {
   "cell_type": "markdown",
   "metadata": {},
   "source": [
    "## LOAD DATA"
   ]
  },
  {
   "cell_type": "code",
   "execution_count": 2,
   "metadata": {},
   "outputs": [],
   "source": [
    "with open('cast_types.txt', 'r') as file:\n",
    "    cast_types = [f.strip('\\n') for f in file.readlines()]"
   ]
  },
  {
   "cell_type": "code",
   "execution_count": 3,
   "metadata": {},
   "outputs": [],
   "source": [
    "data = {}\n",
    "for cast_ in cast_types:\n",
    "    data[cast_] = pd.read_csv(f'data/{cast_}.csv').set_index('name')"
   ]
  },
  {
   "cell_type": "markdown",
   "metadata": {},
   "source": [
    "## DIRECTIONS API"
   ]
  },
  {
   "cell_type": "code",
   "execution_count": 4,
   "metadata": {},
   "outputs": [],
   "source": [
    "with open('gitignore/api_key.txt') as fh:\n",
    "    api_key = fh.read()"
   ]
  },
  {
   "cell_type": "code",
   "execution_count": 5,
   "metadata": {},
   "outputs": [],
   "source": [
    "geolocator = Nominatim(user_agent=\"Transport_planner\")"
   ]
  },
  {
   "cell_type": "markdown",
   "metadata": {},
   "source": [
    "## CREATE OBJECT"
   ]
  },
  {
   "cell_type": "code",
   "execution_count": 33,
   "metadata": {},
   "outputs": [],
   "source": [
    "class TransportPlanner(object):\n",
    "    \n",
    "    def __init__(self, supervisors, drivers, cast_members, destinations, geolocator=geolocator, api_key=api_key):\n",
    "        self.supervisors = supervisors\n",
    "        self.drivers = drivers\n",
    "        self.cast_members = cast_members\n",
    "        self.destinations = destinations\n",
    "        self.all_locs = [supervisors, drivers, cast_members, destinations]\n",
    "        self.geolocator = geolocator\n",
    "        self.api_key = api_key\n",
    "        self.capacities = drivers['capacity']\n",
    "        self.dest_counts = cast_members['destination'].value_counts()\n",
    "        with open('cast_types.txt', 'r') as file:\n",
    "            self.cast_types = [f.strip('\\n') for f in file.readlines()] \n",
    "        \n",
    "    def __str__(self):\n",
    "        return('This is a transport planner object.')\n",
    "    \n",
    "    \n",
    "    def get_locations(self):\n",
    "        self.locations = {}\n",
    "        for df in self.all_locs:\n",
    "            for ind, row in df.iterrows():\n",
    "                try:\n",
    "                    self.locations[ind] = self.geolocator.geocode(row['address'])\n",
    "                except:\n",
    "                    continue\n",
    "    \n",
    "    def get_coordinates(self):\n",
    "        self.coords = pd.DataFrame({k: (v.longitude, v.latitude) for k, v in self.locations.items()}).T\n",
    "    \n",
    "    def get_directions_locations(self, loc_1, loc_2):\n",
    "        # get direction as a geojson\n",
    "        url = f\"https://api.openrouteservice.org/v2/directions/driving-car?api_key={self.api_key}&start={str(loc_1.longitude)},{str(loc_1.latitude)}&end={str(loc_2.longitude)},{str(loc_2.latitude)}\"\n",
    "        r = requests.get(url)\n",
    "        return r.json()\n",
    "    \n",
    "    def get_directions_coords(self, coords_1, coords_2):\n",
    "        # get direction as a geojson\n",
    "        url = f\"https://api.openrouteservice.org/v2/directions/driving-car?api_key={self.api_key}&start={str(coords_1[0])},{str(coords_1[1])}&end={str(coords_2[0])},{str(coords_2[1])}\"\n",
    "        r = requests.get(url)\n",
    "        return r.json()\n",
    "    \n",
    "    def get_duration(self, loc_1, loc_2, loc=True):\n",
    "        # return time of route plan in seconds\n",
    "        if loc:\n",
    "            geojson = self.get_directions_locations(loc_1, loc_2)\n",
    "        else:\n",
    "            geojson = self.get_directions_coords(loc_1, loc_2)\n",
    "        return geojson, geojson['features'][0]['properties']['segments'][0]['duration']\n",
    "    \n",
    "    def get_distance_matrix(self):\n",
    "        dist_table = {}\n",
    "        geojsons = {}\n",
    "        counter = 0\n",
    "        for key, loc in self.locations.items():\n",
    "            dist_table[key] = {}\n",
    "            geojsons[key] = {}\n",
    "            for keyy, locc in self.locations.items():\n",
    "                \n",
    "                # for rate limit\n",
    "                counter += 1\n",
    "                if counter > 39:\n",
    "                    sleep(60)\n",
    "                    counter = 0\n",
    "                else:\n",
    "                    pass\n",
    "                \n",
    "                # get durations\n",
    "                if key == keyy:\n",
    "                    dur = 0\n",
    "                    geojson = {'features': None}\n",
    "                else:\n",
    "                    geojson, dur = self.get_duration(loc, locc, True)\n",
    "                geojsons[key][keyy] = geojson\n",
    "                dist_table[key][keyy] = dur\n",
    "                \n",
    "        self.dist_table = dist_table\n",
    "        self.geojsons = geojsons\n",
    "        return None\n",
    "    \n",
    "    def get_next_cast_member(self, start, relevant_cast_names):\n",
    "        relevant_dists = {k: v for k, v in self.dist_table[start].items() if k in relevant_cast_names}\n",
    "        return min(relevant_dists, key=relevant_dists.get)\n",
    "    \n",
    "    def get_optimal_route(self, dest, capacity, cast_done):\n",
    "        driving_order = [dest]\n",
    "        cast_solved = []\n",
    "        start = dest\n",
    "        relevant_cast_names = self.cast_members[tp.cast_members['destination'] == dest].index\n",
    "        relevant_cast_names = [f for f in relevant_cast_names if not f in cast_done]\n",
    "        while len(driving_order) < capacity + 1:\n",
    "            if len(relevant_cast_names) == 0:\n",
    "                return driving_order\n",
    "            next_cast = self.get_next_cast_member(start, relevant_cast_names)\n",
    "            driving_order.append(next_cast)\n",
    "            relevant_cast_names = [f for f in relevant_cast_names if not f in driving_order]\n",
    "            start = next_cast\n",
    "        return driving_order\n",
    "    \n",
    "    def allocate_driver(self, driving_order, cap, drivers_done):\n",
    "        relevant_drivers = [f for f in self.capacities.index if self.capacities[f] == cap]\n",
    "        relevant_drivers = [f for f in relevant_drivers if not f in drivers_done]\n",
    "        driver = self.get_next_cast_member(driving_order[-1], relevant_drivers)\n",
    "        ret = driving_order + [driver]\n",
    "        return ret\n",
    "    \n",
    "    def optimize_destinations(self):\n",
    "        dest_cast_counts = self.cast_members['destination'].value_counts()\n",
    "        dest_order = dest_cast_counts.sort_values().index\n",
    "        drivers = {}\n",
    "        cast_done = []\n",
    "        drivers_done = []\n",
    "        for dest in dest_order:\n",
    "            if dest_cast_counts[dest] in self.capacities.tolist():\n",
    "                driving_order = self.get_optimal_route(dest, dest_cast_counts[dest], cast_done)\n",
    "                final_driving_order = self.allocate_driver(driving_order, dest_cast_counts[dest], drivers_done)\n",
    "                cast_done += driving_order[1:]\n",
    "                drivers_done += [final_driving_order[-1]]\n",
    "                drivers[final_driving_order[-1]] = final_driving_order[::-1]\n",
    "            elif dest_cast_counts[dest] < tp.capacities.min():\n",
    "                driving_order = self.get_optimal_route(dest, tp.capacities.min(), cast_done)\n",
    "                final_driving_order = self.allocate_driver(driving_order, tp.capacities.min(), drivers_done)\n",
    "                cast_done += driving_order[1:]\n",
    "                drivers_done += [final_driving_order[-1]]\n",
    "                drivers[final_driving_order[-1]] = final_driving_order[::-1]\n",
    "            else:\n",
    "                STOP = False\n",
    "                driver_capacities = self.drivers.drop(drivers_done)['capacity'].tolist()\n",
    "                sorted_driver_capacities = sorted(driver_capacities)[::-1]\n",
    "                optimal_capacities = None\n",
    "                for i in range(len(driver_capacities)):\n",
    "                    for comb in combinations(driver_capacities, i):\n",
    "                        if sum(comb) == dest_cast_counts[dest]:\n",
    "                            STOP = True\n",
    "                            optimal_capacities = comb\n",
    "                            break\n",
    "                    if STOP:\n",
    "                        break\n",
    "                if not optimal_capacities:\n",
    "                    for i in range(2, len(driver_capacities)):\n",
    "                        for comb in combinations(driver_capacities, i):\n",
    "                            if sum(comb) > dest_cast_counts[dest]:\n",
    "                                STOP = True\n",
    "                                optimal_capacities = comb\n",
    "                                break\n",
    "                for elem in comb:\n",
    "                    driving_order = self.get_optimal_route(dest, elem, cast_done)\n",
    "                    final_driving_order = self.allocate_driver(driving_order, elem, drivers_done)\n",
    "                    cast_done += driving_order[1:]\n",
    "                    drivers_done += [final_driving_order[-1]]\n",
    "                    drivers[final_driving_order[-1]] = final_driving_order[::-1] \n",
    "\n",
    "        assert set(cast_done) == set(self.cast_members.index), 'Not all cast members have a ride!!!'\n",
    "        self.driver_routes = drivers\n",
    "        \n",
    "    def schedule_driver_routes(self, puffer_mins=10):\n",
    "        ultra_high = [7, 8, 9, 14, 17, 18, 19]\n",
    "        high = [10, 11, 12, 13, 15, 16, 20]\n",
    "        normal = [f for f in range(24) if not f in ultra_high+high]\n",
    "\n",
    "        multi_dict = {}\n",
    "        for hour in range(24):\n",
    "            if hour in normal:\n",
    "                multi_dict[hour] = 1\n",
    "            elif hour in high:\n",
    "                multi_dict[hour] = 1.25\n",
    "            elif hour in ultra_high:\n",
    "                multi_dict[hour] = 1.5\n",
    "        \n",
    "        self.driver_schedules = {}\n",
    "        for driver, route in tp.driver_routes.items():\n",
    "            driver_route_times = []\n",
    "            for i, stop in enumerate(reversed(route)):\n",
    "                if i == 0:\n",
    "                    dest_time = time(int(self.destinations.loc[stop, 'start_time'].split(':')[0]),\n",
    "                                     int(self.destinations.loc[stop, 'start_time'].split(':')[1]))\n",
    "                    dt = datetime.combine(date.today(), dest_time) - timedelta(minutes=puffer_mins)\n",
    "                    driver_route_times.append(dt.time().__str__())\n",
    "                    temp_time = dt.time()\n",
    "                    prev_stop = stop\n",
    "                else:\n",
    "                    dt = datetime.combine(date.today(), temp_time) - timedelta(\n",
    "                        seconds=tp.dist_table[stop][prev_stop]*multi_dict[temp_time.hour])\n",
    "                    driver_route_times.append(dt.time().__str__())\n",
    "                    temp_time = dt.time()\n",
    "                    prev_stop = stop\n",
    "            self.driver_schedules[driver] = list(reversed(driver_route_times))\n",
    "        \n",
    "    def create_itineraries(self):\n",
    "        self.itineraries = {}\n",
    "        for driver in self.driver_routes.keys():\n",
    "            self.itineraries[driver] = folium.Map(location=(pd.np.median(self.coords[1]),\n",
    "                                                            pd.np.median(self.coords[0])),\n",
    "                                                  zoom_start=12)\n",
    "            fg = folium.FeatureGroup(name='Stops')\n",
    "            for i, stop in enumerate(self.driver_routes[driver]):\n",
    "                if not i == len(self.driver_routes[driver])-1:\n",
    "                    folium.GeoJson(\n",
    "                        self.geojsons[self.driver_routes[driver][i]][self.driver_routes[driver][i+1]]).add_to(\n",
    "                        self.itineraries[driver])\n",
    "                    if i == 0:\n",
    "                        fg.add_child(folium.Marker(location = [self.coords.loc[stop, 1], self.coords.loc[stop, 0]],\n",
    "                                                   popup=f\"\"\"<h4>START</h4>\n",
    "                                                   <p>{stop}: {self.drivers.loc[stop, 'address']}</p><br>\n",
    "                                                   Suggested departure: {self.driver_schedules[driver][i][:5]}\"\"\", \n",
    "                                                   tooltip = 'Click me!',\n",
    "                                                   icon=folium.Icon(color='lightblue')))\n",
    "                    else:\n",
    "                        fg.add_child(folium.Marker(location = [self.coords.loc[stop, 1], self.coords.loc[stop, 0]],\n",
    "                                                   popup=f\"\"\"<h4>STOP {str(i)}</h4>\n",
    "                                                   <p>{stop}: {self.cast_members.loc[stop, 'address']}</p><br>\n",
    "                                                   Pick up time: {self.driver_schedules[driver][i][:5]}\"\"\",\n",
    "                                                   tooltip = 'Click me!',\n",
    "                                                   icon=folium.Icon(color='blue')))\n",
    "                else:\n",
    "                    fg.add_child(folium.Marker(location = [self.coords.loc[stop, 1], self.coords.loc[stop, 0]],\n",
    "                                               popup=f\"\"\"<h4>FINAL DESTINATION</h4>\n",
    "                                               <p>{stop}: {self.destinations.loc[stop, 'address']}</p><br>\n",
    "                                               Estimated arrival: {self.driver_schedules[driver][i][:5]}\"\"\", \n",
    "                                               tooltip = 'Click me!',\n",
    "                                               icon=folium.Icon(color='darkblue')))\n",
    "            self.itineraries[driver].add_child(fg)"
   ]
  },
  {
   "cell_type": "code",
   "execution_count": 42,
   "metadata": {},
   "outputs": [],
   "source": [
    "tp = TransportPlanner(*[data[f] for f in cast_types])"
   ]
  },
  {
   "cell_type": "code",
   "execution_count": 43,
   "metadata": {},
   "outputs": [],
   "source": [
    "tp.get_locations()"
   ]
  },
  {
   "cell_type": "code",
   "execution_count": 44,
   "metadata": {},
   "outputs": [],
   "source": [
    "tp.get_coordinates()"
   ]
  },
  {
   "cell_type": "code",
   "execution_count": 49,
   "metadata": {},
   "outputs": [],
   "source": [
    "\"\"\"\n",
    "with open('data/dist_table.pkl', 'rb') as fp:\n",
    "    dist_table = pickle.load(tp.dist_table, fp)\n",
    "    \n",
    "with open('data/geojsons.pkl', 'rb') as fp:\n",
    "    geojsons = pickle.load(tp.geojsons, fp)\n",
    "\n",
    "tp.dist_table = dist_table\n",
    "tp.geojsons = geojsons\n",
    "\"\"\"\n",
    "\n",
    "tp.get_distance_matrix()"
   ]
  },
  {
   "cell_type": "code",
   "execution_count": 50,
   "metadata": {},
   "outputs": [],
   "source": [
    "tp.optimize_destinations()"
   ]
  },
  {
   "cell_type": "code",
   "execution_count": 51,
   "metadata": {},
   "outputs": [],
   "source": [
    "tp.schedule_driver_routes()"
   ]
  },
  {
   "cell_type": "code",
   "execution_count": 52,
   "metadata": {},
   "outputs": [],
   "source": [
    "tp.create_itineraries()"
   ]
  },
  {
   "cell_type": "code",
   "execution_count": 56,
   "metadata": {},
   "outputs": [
    {
     "data": {
      "text/html": [
       "<div style=\"width:100%;\"><div style=\"position:relative;width:100%;height:0;padding-bottom:60%;\"><iframe src=\"data:text/html;charset=utf-8;base64,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\" style=\"position:absolute;width:100%;height:100%;left:0;top:0;border:none !important;\" allowfullscreen webkitallowfullscreen mozallowfullscreen></iframe></div></div>"
      ],
      "text/plain": [
       "<folium.folium.Map at 0x1ebac96e4e0>"
      ]
     },
     "execution_count": 56,
     "metadata": {},
     "output_type": "execute_result"
    }
   ],
   "source": [
    "tp.itineraries['Dani']#.keys()"
   ]
  },
  {
   "cell_type": "code",
   "execution_count": null,
   "metadata": {},
   "outputs": [],
   "source": []
  },
  {
   "cell_type": "code",
   "execution_count": null,
   "metadata": {},
   "outputs": [],
   "source": []
  },
  {
   "cell_type": "code",
   "execution_count": null,
   "metadata": {},
   "outputs": [],
   "source": []
  },
  {
   "cell_type": "code",
   "execution_count": null,
   "metadata": {},
   "outputs": [],
   "source": []
  },
  {
   "cell_type": "code",
   "execution_count": 15,
   "metadata": {},
   "outputs": [],
   "source": [
    "## map creation method - maps will be attached and can be opened in browser!!!\n",
    "tp.itineraries = {}\n",
    "for driver in tp.driver_routes.keys():\n",
    "    tp.itineraries[driver] = folium.Map(location=(pd.np.median(tp.coords[1]), pd.np.median(tp.coords[0])), zoom_start=12)\n",
    "    fg = folium.FeatureGroup(name='Stops')\n",
    "    for i, stop in enumerate(tp.driver_routes[driver]):\n",
    "        if not i == len(tp.driver_routes[driver])-1:\n",
    "            folium.GeoJson(tp.geojsons[tp.driver_routes[driver][i]][tp.driver_routes[driver][i+1]]).add_to(tp.itineraries[driver])\n",
    "            if i == 0:\n",
    "                fg.add_child(folium.Marker(location = [tp.coords.loc[stop, 1], tp.coords.loc[stop, 0]],\n",
    "                                           popup=f\"\"\"<h4>START</h4>\n",
    "                                           <p>{stop}: {tp.drivers.loc[stop, 'address']}</p><br>\n",
    "                                           Suggested departure: {tp.driver_schedules[driver][i][:5]}\"\"\", \n",
    "                                           tooltip = 'Click me!',\n",
    "                                           icon=folium.Icon(color='lightblue')))\n",
    "            else:\n",
    "                fg.add_child(folium.Marker(location = [tp.coords.loc[stop, 1], tp.coords.loc[stop, 0]],\n",
    "                                           popup=f\"\"\"<h4>STOP {str(i)}</h4>\n",
    "                                           <p>{stop}: {tp.cast_members.loc[stop, 'address']}</p><br>\n",
    "                                           Pick up time: {tp.driver_schedules[driver][i][:5]}\"\"\",\n",
    "                                           tooltip = 'Click me!',\n",
    "                                           icon=folium.Icon(color='blue')))\n",
    "        else:\n",
    "            fg.add_child(folium.Marker(location = [tp.coords.loc[stop, 1], tp.coords.loc[stop, 0]],\n",
    "                                       popup=f\"\"\"<h4>FINAL DESTINATION</h4>\n",
    "                                       <p>{stop}: {tp.destinations.loc[stop, 'address']}</p><br>\n",
    "                                       Estimated arrival: {tp.driver_schedules[driver][i][:5]}\"\"\", \n",
    "                                       tooltip = 'Click me!',\n",
    "                                       icon=folium.Icon(color='darkblue')))\n",
    "    tp.itineraries[driver].add_child(fg)\n",
    "        \n",
    "        "
   ]
  },
  {
   "cell_type": "code",
   "execution_count": 16,
   "metadata": {},
   "outputs": [
    {
     "data": {
      "text/html": [
       "<div style=\"width:100%;\"><div style=\"position:relative;width:100%;height:0;padding-bottom:60%;\"><iframe src=\"data:text/html;charset=utf-8;base64,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\" style=\"position:absolute;width:100%;height:100%;left:0;top:0;border:none !important;\" allowfullscreen webkitallowfullscreen mozallowfullscreen></iframe></div></div>"
      ],
      "text/plain": [
       "<folium.folium.Map at 0x1ebacc22a58>"
      ]
     },
     "execution_count": 16,
     "metadata": {},
     "output_type": "execute_result"
    }
   ],
   "source": [
    "tp.itineraries[driver]"
   ]
  },
  {
   "cell_type": "code",
   "execution_count": null,
   "metadata": {},
   "outputs": [],
   "source": [
    "help(folium.Icon)"
   ]
  },
  {
   "cell_type": "code",
   "execution_count": null,
   "metadata": {},
   "outputs": [],
   "source": [
    "tp.driver_routes"
   ]
  },
  {
   "cell_type": "code",
   "execution_count": null,
   "metadata": {},
   "outputs": [],
   "source": [
    "tp.itineraries['Feri']"
   ]
  },
  {
   "cell_type": "code",
   "execution_count": null,
   "metadata": {},
   "outputs": [],
   "source": [
    "m = folium.Map(location = (pd.np.median(tp.coords[1]), pd.np.median(tp.coords[0])), zoom_start=12)"
   ]
  },
  {
   "cell_type": "code",
   "execution_count": null,
   "metadata": {},
   "outputs": [],
   "source": [
    "folium.GeoJson(tp.geojsons['Dani']['Boci'], name='1').add_to(m)\n",
    "folium.GeoJson(tp.geojsons['Boci']['Coci'], name='2').add_to(m)\n",
    "folium.GeoJson(tp.geojsons['Coci']['Zoli'], name='3').add_to(m)\n",
    "folium.GeoJson(tp.geojsons['Zoli']['Dressing'], name='4').add_to(m)"
   ]
  },
  {
   "cell_type": "code",
   "execution_count": null,
   "metadata": {},
   "outputs": [],
   "source": []
  },
  {
   "cell_type": "code",
   "execution_count": null,
   "metadata": {},
   "outputs": [],
   "source": [
    "m"
   ]
  },
  {
   "cell_type": "code",
   "execution_count": null,
   "metadata": {},
   "outputs": [],
   "source": []
  },
  {
   "cell_type": "code",
   "execution_count": null,
   "metadata": {},
   "outputs": [],
   "source": []
  },
  {
   "cell_type": "code",
   "execution_count": null,
   "metadata": {},
   "outputs": [],
   "source": [
    "tp.geojsons['Dani']['Boci']"
   ]
  },
  {
   "cell_type": "code",
   "execution_count": null,
   "metadata": {},
   "outputs": [],
   "source": []
  },
  {
   "cell_type": "code",
   "execution_count": null,
   "metadata": {},
   "outputs": [],
   "source": []
  },
  {
   "cell_type": "code",
   "execution_count": null,
   "metadata": {},
   "outputs": [],
   "source": []
  },
  {
   "cell_type": "code",
   "execution_count": null,
   "metadata": {},
   "outputs": [],
   "source": []
  },
  {
   "cell_type": "code",
   "execution_count": null,
   "metadata": {},
   "outputs": [],
   "source": []
  },
  {
   "cell_type": "code",
   "execution_count": null,
   "metadata": {},
   "outputs": [],
   "source": []
  },
  {
   "cell_type": "code",
   "execution_count": null,
   "metadata": {},
   "outputs": [],
   "source": []
  },
  {
   "cell_type": "code",
   "execution_count": null,
   "metadata": {},
   "outputs": [],
   "source": []
  },
  {
   "cell_type": "code",
   "execution_count": null,
   "metadata": {},
   "outputs": [],
   "source": []
  },
  {
   "cell_type": "code",
   "execution_count": null,
   "metadata": {},
   "outputs": [],
   "source": [
    "dest = tp.destinations.index[0]"
   ]
  },
  {
   "cell_type": "code",
   "execution_count": null,
   "metadata": {},
   "outputs": [],
   "source": [
    "def optimize_destination(dest):\n",
    "    cast_done = []\n",
    "    drivers = {}\n",
    "\n",
    "def allocate_driver(driving_order, cap, drivers_done):\n",
    "    relevant_drivers = [f for f in tp.capacities.index if tp.capacities[f] == cap]\n",
    "    relevant_drivers = [f for f in relevant_drivers if not f in drivers_done]\n",
    "    driver = get_next_cast_member(driving_order[-1], relevant_drivers)\n",
    "    ret = driving_order + [driver]\n",
    "    return ret\n",
    "\n",
    "def get_optimal_route(dest, capacity, cast_done):\n",
    "    driving_order = [dest]\n",
    "    cast_solved = []\n",
    "    start = dest\n",
    "    relevant_cast_names = tp.cast_members[tp.cast_members['destination'] == dest].index\n",
    "    relevant_cast_names = [f for f in relevant_cast_names if not f in cast_done]\n",
    "    while len(driving_order) < capacity + 1:\n",
    "        if len(relevant_cast_names) == 0:\n",
    "            return driving_order\n",
    "        next_cast = get_next_cast_member(start, relevant_cast_names)\n",
    "        driving_order.append(next_cast)\n",
    "        relevant_cast_names = [f for f in relevant_cast_names if not f in driving_order]\n",
    "        start = next_cast\n",
    "    return driving_order\n",
    "    \n",
    "def get_next_cast_member(start, relevant_cast_names):\n",
    "    relevant_dists = {k: v for k, v in tp.dist_table[start].items() if k in relevant_cast_names}\n",
    "    return min(relevant_dists, key=relevant_dists.get)"
   ]
  },
  {
   "cell_type": "code",
   "execution_count": null,
   "metadata": {},
   "outputs": [],
   "source": [
    "dest_cast_counts = tp.cast_members['destination'].value_counts()\n",
    "dest_order = dest_cast_counts.sort_values().index"
   ]
  },
  {
   "cell_type": "code",
   "execution_count": null,
   "metadata": {},
   "outputs": [],
   "source": [
    "dest = dest_order[0]"
   ]
  },
  {
   "cell_type": "code",
   "execution_count": null,
   "metadata": {},
   "outputs": [],
   "source": [
    "def optimize_destination():\n",
    "    dest_cast_counts = tp.cast_members['destination'].value_counts()\n",
    "    dest_order = dest_cast_counts.sort_values().index\n",
    "    drivers = {}\n",
    "    cast_done = []\n",
    "    drivers_done = []\n",
    "    for dest in dest_order:\n",
    "        if dest_cast_counts[dest] in tp.capacities.tolist():\n",
    "            driving_order = get_optimal_route(dest, dest_cast_counts[dest], cast_done)\n",
    "            final_driving_order = allocate_driver(driving_order, dest_cast_counts[dest], drivers_done)\n",
    "            cast_done += driving_order[1:]\n",
    "            drivers_done += [final_driving_order[-1]]\n",
    "            drivers[final_driving_order[-1]] = final_driving_order[::-1]\n",
    "        elif dest_cast_counts[dest] < tp.capacities.min():\n",
    "            driving_order = get_optimal_route(dest, tp.capacities.min(), cast_done)\n",
    "            final_driving_order = allocate_driver(driving_order, tp.capacities.min(), drivers_done)\n",
    "            cast_done += driving_order[1:]\n",
    "            drivers_done += [final_driving_order[-1]]\n",
    "            drivers[final_driving_order[-1]] = final_driving_order[::-1]\n",
    "        else:\n",
    "            STOP = False\n",
    "            driver_capacities = tp.drivers.drop(drivers_done)['capacity'].tolist()\n",
    "            sorted_driver_capacities = sorted(driver_capacities)[::-1]\n",
    "            optimal_capacities = None\n",
    "            for i in range(len(driver_capacities)):\n",
    "                for comb in combinations(driver_capacities, i):\n",
    "                    if sum(comb) == dest_cast_counts[dest]:\n",
    "                        STOP = True\n",
    "                        optimal_capacities = comb\n",
    "                        break\n",
    "                if STOP:\n",
    "                    break\n",
    "            if not optimal_capacities:\n",
    "                for i in range(2, len(driver_capacities)):\n",
    "                    for comb in combinations(driver_capacities, i):\n",
    "                        if sum(comb) > dest_cast_counts[dest]:\n",
    "                            STOP = True\n",
    "                            optimal_capacities = comb\n",
    "                            break\n",
    "            for elem in comb:\n",
    "                driving_order = get_optimal_route(dest, elem, cast_done)\n",
    "                final_driving_order = allocate_driver(driving_order, elem, drivers_done)\n",
    "                cast_done += driving_order[1:]\n",
    "                drivers_done += [final_driving_order[-1]]\n",
    "                drivers[final_driving_order[-1]] = final_driving_order[::-1] \n",
    "\n",
    "    assert set(cast_done) == set(tp.cast_members.index), 'Not all cast members have a ride!!!'\n"
   ]
  },
  {
   "cell_type": "code",
   "execution_count": null,
   "metadata": {},
   "outputs": [],
   "source": [
    "drivers"
   ]
  },
  {
   "cell_type": "code",
   "execution_count": null,
   "metadata": {},
   "outputs": [],
   "source": [
    "tp.cast_members"
   ]
  },
  {
   "cell_type": "code",
   "execution_count": null,
   "metadata": {},
   "outputs": [],
   "source": [
    "driving_order"
   ]
  },
  {
   "cell_type": "code",
   "execution_count": null,
   "metadata": {},
   "outputs": [],
   "source": [
    "drivers_done"
   ]
  },
  {
   "cell_type": "code",
   "execution_count": null,
   "metadata": {},
   "outputs": [],
   "source": [
    "drivers"
   ]
  },
  {
   "cell_type": "code",
   "execution_count": null,
   "metadata": {},
   "outputs": [],
   "source": [
    "tp.cast_members"
   ]
  },
  {
   "cell_type": "code",
   "execution_count": null,
   "metadata": {},
   "outputs": [],
   "source": [
    "drivers"
   ]
  },
  {
   "cell_type": "code",
   "execution_count": null,
   "metadata": {},
   "outputs": [],
   "source": [
    "sorted(tp.drivers.drop(drivers_done)['capacity'].tolist())[::-1]"
   ]
  },
  {
   "cell_type": "code",
   "execution_count": null,
   "metadata": {},
   "outputs": [],
   "source": [
    "drivers"
   ]
  },
  {
   "cell_type": "code",
   "execution_count": null,
   "metadata": {},
   "outputs": [],
   "source": [
    "tp.drivers.drop(drivers_done)"
   ]
  },
  {
   "cell_type": "code",
   "execution_count": null,
   "metadata": {},
   "outputs": [],
   "source": [
    "for comb in combinations(tp.drivers.drop(drivers_done)['capacity'].tolist(), 2):\n",
    "    print(comb[0] + comb[1])"
   ]
  },
  {
   "cell_type": "code",
   "execution_count": null,
   "metadata": {},
   "outputs": [],
   "source": []
  },
  {
   "cell_type": "code",
   "execution_count": null,
   "metadata": {},
   "outputs": [],
   "source": [
    "final_driving_order"
   ]
  },
  {
   "cell_type": "code",
   "execution_count": null,
   "metadata": {},
   "outputs": [],
   "source": [
    "cast_done"
   ]
  },
  {
   "cell_type": "code",
   "execution_count": null,
   "metadata": {},
   "outputs": [],
   "source": [
    "drivers_done"
   ]
  },
  {
   "cell_type": "code",
   "execution_count": null,
   "metadata": {},
   "outputs": [],
   "source": []
  },
  {
   "cell_type": "code",
   "execution_count": null,
   "metadata": {},
   "outputs": [],
   "source": []
  },
  {
   "cell_type": "code",
   "execution_count": null,
   "metadata": {},
   "outputs": [],
   "source": [
    "print(tp.destinations.loc[final_driving_order[0], 'address'])\n",
    "for i in driving_order[1:]:\n",
    "    print(tp.cast_members.loc[i, 'address'])\n",
    "print(tp.drivers.loc[final_driving_order[-1], 'address'])"
   ]
  },
  {
   "cell_type": "code",
   "execution_count": null,
   "metadata": {},
   "outputs": [],
   "source": []
  },
  {
   "cell_type": "code",
   "execution_count": null,
   "metadata": {},
   "outputs": [],
   "source": [
    "relevant_drivers = [f for f in tp.capacities.index if tp.capacities[f] == len(driving_order)-1]"
   ]
  },
  {
   "cell_type": "code",
   "execution_count": null,
   "metadata": {},
   "outputs": [],
   "source": [
    "relevant_drivers"
   ]
  },
  {
   "cell_type": "code",
   "execution_count": null,
   "metadata": {},
   "outputs": [],
   "source": [
    "tp.cast_members.loc[ut]"
   ]
  },
  {
   "cell_type": "code",
   "execution_count": null,
   "metadata": {},
   "outputs": [],
   "source": []
  },
  {
   "cell_type": "code",
   "execution_count": null,
   "metadata": {},
   "outputs": [],
   "source": []
  },
  {
   "cell_type": "code",
   "execution_count": null,
   "metadata": {},
   "outputs": [],
   "source": []
  }
 ],
 "metadata": {
  "kernelspec": {
   "display_name": "Python 3",
   "language": "python",
   "name": "python3"
  },
  "language_info": {
   "codemirror_mode": {
    "name": "ipython",
    "version": 3
   },
   "file_extension": ".py",
   "mimetype": "text/x-python",
   "name": "python",
   "nbconvert_exporter": "python",
   "pygments_lexer": "ipython3",
   "version": "3.7.0"
  }
 },
 "nbformat": 4,
 "nbformat_minor": 2
}
