{
 "cells": [
  {
   "cell_type": "code",
   "execution_count": 1,
   "metadata": {},
   "outputs": [],
   "source": [
    "import pandas as pd"
   ]
  },
  {
   "cell_type": "code",
   "execution_count": 2,
   "metadata": {},
   "outputs": [],
   "source": [
    "with open('cast_types.txt', 'r') as file:\n",
    "    cast_types = [f.strip('\\n') for f in file.readlines()]"
   ]
  },
  {
   "cell_type": "code",
   "execution_count": 3,
   "metadata": {},
   "outputs": [],
   "source": [
    "email_address = 'mor.kapronczay@gmail.com'"
   ]
  },
  {
   "cell_type": "code",
   "execution_count": 4,
   "metadata": {},
   "outputs": [],
   "source": [
    "cast = {'supervisors': {'Bius': {'mailto': email_address}},\n",
    "        'drivers': {'Laci': {'address': '1085 Budapest Horánszky utca 6.', 'capacity': 2, 'mailto': email_address},\n",
    "                    'Feri': {'address': '1153 Budapest Dobó utca 18.', 'capacity': 2, 'mailto': email_address}\n",
    "                   },\n",
    "        'cast_members': {'Bius': {'address': '1077 Budapest Wesselényi utca 58.', 'destination': 'Shooting', 'mailto': email_address},\n",
    "                         'Zoli': {'address': '1072 Budapest Akácfa utca 4.', 'destination': 'Dressing', 'mailto': email_address},\n",
    "                         'Peti': {'address': '1155 Budapest Perczel Mór utca 13.', 'destination': 'Shooting', 'mailto': email_address},\n",
    "                         'Nori': {'address': '1142 Budapest Szőnyi út 2.', 'destination': 'Dressing', 'mailto': email_address}\n",
    "                        },\n",
    "        'destination': {'Shooting': {'address': '1021 Budapest Budakeszi út 51', 'start_time': '10:00'}, \n",
    "                        'Dressing': {'address': '1117 Budapest, Bogdánfy u. 10', 'start_time': '12:00'}}\n",
    "       }"
   ]
  },
  {
   "cell_type": "code",
   "execution_count": 5,
   "metadata": {},
   "outputs": [],
   "source": [
    "for key in cast.keys():\n",
    "    pd.DataFrame(cast[key]).T.reset_index().rename(columns = {'index': 'name'}).to_csv(f'data/{key}.csv', index=False)"
   ]
  }
 ],
 "metadata": {
  "kernelspec": {
   "display_name": "Python 3",
   "language": "python",
   "name": "python3"
  },
  "language_info": {
   "codemirror_mode": {
    "name": "ipython",
    "version": 3
   },
   "file_extension": ".py",
   "mimetype": "text/x-python",
   "name": "python",
   "nbconvert_exporter": "python",
   "pygments_lexer": "ipython3",
   "version": "3.7.0"
  }
 },
 "nbformat": 4,
 "nbformat_minor": 2
}
