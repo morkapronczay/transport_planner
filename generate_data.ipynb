{
 "cells": [
  {
   "cell_type": "code",
   "execution_count": 1,
   "metadata": {
    "collapsed": true
   },
   "outputs": [],
   "source": [
    "import pandas as pd"
   ]
  },
  {
   "cell_type": "code",
   "execution_count": 2,
   "metadata": {
    "collapsed": true
   },
   "outputs": [],
   "source": [
    "with open('cast_types.txt', 'r') as file:\n",
    "    cast_types = [f.strip('\\n') for f in file.readlines()]"
   ]
  },
  {
   "cell_type": "code",
   "execution_count": 3,
   "metadata": {
    "collapsed": true
   },
   "outputs": [],
   "source": [
    "email_address = 'mor.kapronczay@gmail.com'"
   ]
  },
  {
   "cell_type": "code",
   "execution_count": 7,
   "metadata": {
    "collapsed": true
   },
   "outputs": [],
   "source": [
    "cast = {'supervisors': {'Bius': {'mailto': email_address}},\n",
    "        'drivers': {'Laci': {'address': '1085 Budapest Horánszky utca 6.', 'capacity': 3, 'mailto': email_address},\n",
    "                    'Feri': {'address': '1153 Budapest Dobó utca 18.', 'capacity': 3, 'mailto': email_address},\n",
    "                    'Dani': {'address': 'Budapest, Klauzál tér 3, 1072', 'capacity': 3, 'mailto': email_address},\n",
    "                    'Deni': {'address': 'Budapest, Hegyalja út 16, 1016', 'capacity': 1, 'mailto': email_address}\n",
    "                   },\n",
    "        'cast_members': {'Bius': {'address': '1077 Budapest Wesselényi utca 58.', 'destination': 'Shooting', 'mailto': email_address},\n",
    "                         'Zoli': {'address': '1072 Budapest Akácfa utca 4.', 'destination': 'Dressing', 'mailto': email_address},\n",
    "                         'Peti': {'address': '1155 Budapest Perczel Mór utca 13.', 'destination': 'Shooting', 'mailto': email_address},\n",
    "                         'Nori': {'address': '1142 Budapest Szőnyi út 2.', 'destination': 'Shooting', 'mailto': email_address},\n",
    "                         'Boci': {'address': 'Budapest, Örs vezér tere 22, 1148', 'destination': 'Dressing', 'mailto': email_address},\n",
    "                         'Coci': {'address': 'Budapest, Ludovika tér 2, 1083', 'destination': 'Dressing', 'mailto': email_address},\n",
    "                         'Loci': {'address': 'Lónyay u. 13 Budapest 1093', 'destination': 'Shooting', 'mailto': email_address},\n",
    "                         'Apci': {'address': 'Budapest, Szent István körút 14, 1137', 'destination': 'Shooting', 'mailto': email_address}\n",
    "                        },\n",
    "        'destination': {'Shooting': {'address': '1021 Budapest Budakeszi út 51', 'start_time': '10:00'}, \n",
    "                        'Dressing': {'address': '1117 Budapest, Bogdánfy u. 10', 'start_time': '12:00'}}\n",
    "       }"
   ]
  },
  {
   "cell_type": "code",
   "execution_count": 8,
   "metadata": {
    "collapsed": true
   },
   "outputs": [],
   "source": [
    "for key in cast.keys():\n",
    "    pd.DataFrame(cast[key]).T.reset_index().rename(columns = {'index': 'name'}).to_csv(f'data/{key}.csv', index=False)"
   ]
  }
 ],
 "metadata": {
  "kernelspec": {
   "display_name": "Python 3",
   "language": "python",
   "name": "python3"
  },
  "language_info": {
   "codemirror_mode": {
    "name": "ipython",
    "version": 3
   },
   "file_extension": ".py",
   "mimetype": "text/x-python",
   "name": "python",
   "nbconvert_exporter": "python",
   "pygments_lexer": "ipython3",
   "version": "3.6.3"
  }
 },
 "nbformat": 4,
 "nbformat_minor": 2
}
